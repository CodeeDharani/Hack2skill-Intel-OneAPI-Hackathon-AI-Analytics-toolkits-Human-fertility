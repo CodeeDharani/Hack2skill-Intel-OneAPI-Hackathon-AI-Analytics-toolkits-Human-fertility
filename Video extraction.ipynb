{
 "cells": [
  {
   "cell_type": "code",
   "execution_count": 4,
   "id": "d3f1d7e6-cac3-4905-9132-d6c6ebd37ffe",
   "metadata": {},
   "outputs": [
    {
     "name": "stdout",
     "output_type": "stream",
     "text": [
      "Defaulting to user installation because normal site-packages is not writeable\n",
      "Requirement already satisfied: scikit-learn-intelex in ./.local/lib/python3.9/site-packages (2023.0.1)\n",
      "Requirement already satisfied: scikit-learn>=0.22 in /glob/development-tools/versions/oneapi/2023.0.1/oneapi/intelpython/python3.9/lib/python3.9/site-packages (from scikit-learn-intelex) (1.1.1)\n",
      "Requirement already satisfied: daal4py==2023.0.1 in ./.local/lib/python3.9/site-packages (from scikit-learn-intelex) (2023.0.1)\n",
      "Requirement already satisfied: daal==2023.0.1 in ./.local/lib/python3.9/site-packages (from daal4py==2023.0.1->scikit-learn-intelex) (2023.0.1)\n",
      "Requirement already satisfied: numpy>=1.15 in /glob/development-tools/versions/oneapi/2023.0.1/oneapi/intelpython/python3.9/lib/python3.9/site-packages (from daal4py==2023.0.1->scikit-learn-intelex) (1.22.3)\n",
      "Requirement already satisfied: tbb==2021.* in ./.local/lib/python3.9/site-packages (from daal==2023.0.1->daal4py==2023.0.1->scikit-learn-intelex) (2021.8.0)\n",
      "Requirement already satisfied: threadpoolctl>=2.0.0 in /glob/development-tools/versions/oneapi/2023.0.1/oneapi/intelpython/python3.9/lib/python3.9/site-packages (from scikit-learn>=0.22->scikit-learn-intelex) (2.2.0)\n",
      "Requirement already satisfied: scipy>=1.3.2 in ./.local/lib/python3.9/site-packages (from scikit-learn>=0.22->scikit-learn-intelex) (1.9.1)\n",
      "Requirement already satisfied: joblib>=1.0.0 in ./.local/lib/python3.9/site-packages (from scikit-learn>=0.22->scikit-learn-intelex) (1.2.0)\n",
      "Note: you may need to restart the kernel to use updated packages.\n"
     ]
    }
   ],
   "source": [
    "pip install scikit-learn-intelex"
   ]
  },
  {
   "cell_type": "code",
   "execution_count": 7,
   "id": "babbe7b3-7663-4b32-90ed-37542b3590dc",
   "metadata": {},
   "outputs": [],
   "source": [
    "# Importing libraries\n",
    "\n",
    "from __future__ import print_function\n",
    "import pandas as pd\n",
    "import numpy as np\n",
    "import matplotlib.pyplot as plt\n",
    "from sklearn.metrics import classification_report\n",
    "from sklearn import metrics\n",
    "import warnings\n",
    "warnings.filterwarnings('ignore')"
   ]
  },
  {
   "cell_type": "code",
   "execution_count": 6,
   "id": "2dbe987e-4c6f-451d-b539-fafc35e43e7b",
   "metadata": {},
   "outputs": [
    {
     "name": "stdout",
     "output_type": "stream",
     "text": [
      "Defaulting to user installation because normal site-packages is not writeable\n",
      "Requirement already satisfied: scikit-learn-intelex in ./.local/lib/python3.9/site-packages (2023.0.1)\n",
      "Requirement already satisfied: daal4py==2023.0.1 in ./.local/lib/python3.9/site-packages (from scikit-learn-intelex) (2023.0.1)\n",
      "Requirement already satisfied: scikit-learn>=0.22 in /glob/development-tools/versions/oneapi/2023.0.1/oneapi/intelpython/python3.9/lib/python3.9/site-packages (from scikit-learn-intelex) (1.1.1)\n",
      "Requirement already satisfied: daal==2023.0.1 in ./.local/lib/python3.9/site-packages (from daal4py==2023.0.1->scikit-learn-intelex) (2023.0.1)\n",
      "Requirement already satisfied: numpy>=1.15 in /glob/development-tools/versions/oneapi/2023.0.1/oneapi/intelpython/python3.9/lib/python3.9/site-packages (from daal4py==2023.0.1->scikit-learn-intelex) (1.22.3)\n",
      "Requirement already satisfied: tbb==2021.* in ./.local/lib/python3.9/site-packages (from daal==2023.0.1->daal4py==2023.0.1->scikit-learn-intelex) (2021.8.0)\n",
      "Requirement already satisfied: threadpoolctl>=2.0.0 in /glob/development-tools/versions/oneapi/2023.0.1/oneapi/intelpython/python3.9/lib/python3.9/site-packages (from scikit-learn>=0.22->scikit-learn-intelex) (2.2.0)\n",
      "Requirement already satisfied: scipy>=1.3.2 in ./.local/lib/python3.9/site-packages (from scikit-learn>=0.22->scikit-learn-intelex) (1.9.1)\n",
      "Requirement already satisfied: joblib>=1.0.0 in ./.local/lib/python3.9/site-packages (from scikit-learn>=0.22->scikit-learn-intelex) (1.2.0)\n",
      "Note: you may need to restart the kernel to use updated packages.\n"
     ]
    }
   ],
   "source": [
    "pip install scikit-learn-intelex"
   ]
  },
  {
   "cell_type": "code",
   "execution_count": 8,
   "id": "eddc722b-e50c-4c91-966d-cfbc0cea608a",
   "metadata": {},
   "outputs": [
    {
     "name": "stdout",
     "output_type": "stream",
     "text": [
      "Number of frames: 0\n"
     ]
    }
   ],
   "source": [
    "import cv2\n",
    "import os\n",
    "\n",
    "# Set the path to the video dataset directory\n",
    "dataset_path = \"visem/video\"\n",
    "\n",
    "# Create an empty list to store the video frames\n",
    "frames = []\n",
    "\n",
    "# Loop through each video file in the dataset directory\n",
    "for filename in os.listdir(dataset_path):\n",
    "    if filename.endswith(\".mp4\"):\n",
    "        # Read the video file using OpenCV\n",
    "        cap = cv2.VideoCapture(os.path.join(dataset_path, filename))\n",
    "\n",
    "        # Loop through each frame of the video\n",
    "        while True:\n",
    "            # Read the next frame\n",
    "            ret, frame = cap.read()\n",
    "            if not ret:\n",
    "                break\n",
    "\n",
    "            # Append the frame to the frames list\n",
    "            frames.append(frame)\n",
    "\n",
    "        # Release the video capture object\n",
    "        cap.release()\n",
    "\n",
    "# Clean the data\n",
    "# Here you can apply various data cleaning techniques such as removing duplicates, removing outliers, etc.\n",
    "\n",
    "# Print the number of frames in the dataset\n",
    "print(\"Number of frames:\", len(frames))\n"
   ]
  },
  {
   "cell_type": "code",
   "execution_count": 9,
   "id": "ed4422d0-0756-4fe5-beae-1187ba82bef5",
   "metadata": {},
   "outputs": [
    {
     "name": "stderr",
     "output_type": "stream",
     "text": [
      "[mjpeg @ 0x561f6560a840] overread 8\n"
     ]
    }
   ],
   "source": [
    "import cv2\n",
    "import os\n",
    "\n",
    "# Set the path to the video file\n",
    "video_path = 'visem/video/1_09.09.02_SSW.avi'\n",
    "\n",
    "# Set the path to the directory where the frames will be saved\n",
    "frame_dir = 'visem/video frames'\n",
    "\n",
    "# Create the frame directory if it doesn't exist\n",
    "os.makedirs(frame_dir, exist_ok=True)\n",
    "\n",
    "# Read the video file\n",
    "cap = cv2.VideoCapture(video_path)\n",
    "\n",
    "# Loop through each frame in the video and save it as an image file\n",
    "frame_num = 0\n",
    "while cap.isOpened():\n",
    "    ret, frame = cap.read()\n",
    "    if not ret:\n",
    "        break\n",
    "    frame_path = os.path.join(frame_dir, f'frame_{frame_num:06d}.jpg')\n",
    "    cv2.imwrite(frame_path, frame)\n",
    "    frame_num += 1\n",
    "\n",
    "# Release the video capture object\n",
    "cap.release()\n"
   ]
  },
  {
   "cell_type": "code",
   "execution_count": 10,
   "id": "e157dea6-ea07-4c90-a7bf-0dd390e64d95",
   "metadata": {},
   "outputs": [
    {
     "name": "stderr",
     "output_type": "stream",
     "text": [
      "ffmpeg version 4.2.7-0ubuntu0.1 Copyright (c) 2000-2022 the FFmpeg developers\n",
      "  built with gcc 9 (Ubuntu 9.4.0-1ubuntu1~20.04.1)\n",
      "  configuration: --prefix=/usr --extra-version=0ubuntu0.1 --toolchain=hardened --libdir=/usr/lib/x86_64-linux-gnu --incdir=/usr/include/x86_64-linux-gnu --arch=amd64 --enable-gpl --disable-stripping --enable-avresample --disable-filter=resample --enable-avisynth --enable-gnutls --enable-ladspa --enable-libaom --enable-libass --enable-libbluray --enable-libbs2b --enable-libcaca --enable-libcdio --enable-libcodec2 --enable-libflite --enable-libfontconfig --enable-libfreetype --enable-libfribidi --enable-libgme --enable-libgsm --enable-libjack --enable-libmp3lame --enable-libmysofa --enable-libopenjpeg --enable-libopenmpt --enable-libopus --enable-libpulse --enable-librsvg --enable-librubberband --enable-libshine --enable-libsnappy --enable-libsoxr --enable-libspeex --enable-libssh --enable-libtheora --enable-libtwolame --enable-libvidstab --enable-libvorbis --enable-libvpx --enable-libwavpack --enable-libwebp --enable-libx265 --enable-libxml2 --enable-libxvid --enable-libzmq --enable-libzvbi --enable-lv2 --enable-omx --enable-openal --enable-opencl --enable-opengl --enable-sdl2 --enable-libdc1394 --enable-libdrm --enable-libiec61883 --enable-nvenc --enable-chromaprint --enable-frei0r --enable-libx264 --enable-shared\n",
      "  libavutil      56. 31.100 / 56. 31.100\n",
      "  libavcodec     58. 54.100 / 58. 54.100\n",
      "  libavformat    58. 29.100 / 58. 29.100\n",
      "  libavdevice    58.  8.100 / 58.  8.100\n",
      "  libavfilter     7. 57.100 /  7. 57.100\n",
      "  libavresample   4.  0.  0 /  4.  0.  0\n",
      "  libswscale      5.  5.100 /  5.  5.100\n",
      "  libswresample   3.  5.100 /  3.  5.100\n",
      "  libpostproc    55.  5.100 / 55.  5.100\n",
      "Input #0, avi, from 'visem/video/1_09.09.02_SSW.avi':\n",
      "  Duration: 00:00:19.06, start: 0.000000, bitrate: 14082 kb/s\n",
      "    Stream #0:0: Video: mjpeg (Baseline) (MJPG / 0x47504A4D), yuvj422p(pc, bt470bg/unknown/unknown), 640x480 [SAR 1:1 DAR 4:3], 49.58 fps, 49.58 tbr, 49.58 tbn, 49.58 tbc\n",
      "    Metadata:\n",
      "      title           : stream name\n",
      "[NULL @ 0x55d35adea4c0] Unable to find a suitable output format for 'visem/output video'\n",
      "visem/output video: Invalid argument\n"
     ]
    },
    {
     "data": {
      "text/plain": [
       "CompletedProcess(args=['ffmpeg', '-i', 'visem/video/1_09.09.02_SSW.avi', '-c:v', 'libx264', '-c:a', 'aac', '-b:a', '128k', '-movflags', '+faststart', 'visem/output video'], returncode=1)"
      ]
     },
     "execution_count": 10,
     "metadata": {},
     "output_type": "execute_result"
    }
   ],
   "source": [
    "import subprocess\n",
    "\n",
    "# Set the path to the input video file\n",
    "input_file = 'visem/video/1_09.09.02_SSW.avi'\n",
    "\n",
    "# Set the path to the output video file\n",
    "output_file = 'visem/output video'\n",
    "\n",
    "# Set the options for FFmpeg\n",
    "ffmpeg_options = ['-i', input_file, '-c:v', 'libx264', '-c:a', 'aac', '-b:a', '128k', '-movflags', '+faststart', output_file]\n",
    "\n",
    "# Call FFmpeg to convert the video file\n",
    "subprocess.run(['ffmpeg'] + ffmpeg_options)\n"
   ]
  },
  {
   "cell_type": "code",
   "execution_count": 11,
   "id": "b9f701e9-c377-40bf-82fb-47fe909a59f2",
   "metadata": {},
   "outputs": [
    {
     "name": "stderr",
     "output_type": "stream",
     "text": [
      "[mjpeg @ 0x561f656d1740] overread 8\n"
     ]
    }
   ],
   "source": [
    "import cv2\n",
    "import os\n",
    "\n",
    "# Set the path to the video file\n",
    "video_path = 'visem/video/2_09.09.03_lots of debris_SSW.avi'\n",
    "\n",
    "# Set the path to the directory where the frames will be saved\n",
    "frame_dir = 'visem/video-2 frames'\n",
    "\n",
    "# Create the frame directory if it doesn't exist\n",
    "os.makedirs(frame_dir, exist_ok=True)\n",
    "\n",
    "# Read the video file\n",
    "cap = cv2.VideoCapture(video_path)\n",
    "\n",
    "# Loop through each frame in the video and save it as an image file\n",
    "frame_num = 0\n",
    "while cap.isOpened():\n",
    "    ret, frame = cap.read()\n",
    "    if not ret:\n",
    "        break\n",
    "    frame_path = os.path.join(frame_dir, f'frame_{frame_num:06d}.jpg')\n",
    "    cv2.imwrite(frame_path, frame)\n",
    "    frame_num += 1\n",
    "\n",
    "# Release the video capture object\n",
    "cap.release()\n"
   ]
  },
  {
   "cell_type": "code",
   "execution_count": 12,
   "id": "15d59092-2146-4e03-9941-1ddde843057e",
   "metadata": {},
   "outputs": [
    {
     "name": "stderr",
     "output_type": "stream",
     "text": [
      "[mjpeg @ 0x561f6560c500] overread 8\n"
     ]
    }
   ],
   "source": [
    "import cv2\n",
    "import os\n",
    "\n",
    "# Set the path to the video file\n",
    "video_path = 'visem/video/3_11.01.21_JMA.avi'\n",
    "\n",
    "# Set the path to the directory where the frames will be saved\n",
    "frame_dir = 'visem/video-3 frames'\n",
    "\n",
    "# Create the frame directory if it doesn't exist\n",
    "os.makedirs(frame_dir, exist_ok=True)\n",
    "\n",
    "# Read the video file\n",
    "cap = cv2.VideoCapture(video_path)\n",
    "\n",
    "# Loop through each frame in the video and save it as an image file\n",
    "frame_num = 0\n",
    "while cap.isOpened():\n",
    "    ret, frame = cap.read()\n",
    "    if not ret:\n",
    "        break\n",
    "    frame_path = os.path.join(frame_dir, f'frame_{frame_num:06d}.jpg')\n",
    "    cv2.imwrite(frame_path, frame)\n",
    "    frame_num += 1\n",
    "\n",
    "# Release the video capture object\n",
    "cap.release()\n"
   ]
  },
  {
   "cell_type": "code",
   "execution_count": 13,
   "id": "4b8507ad-1e24-44f2-8c84-baed9005a073",
   "metadata": {},
   "outputs": [
    {
     "name": "stderr",
     "output_type": "stream",
     "text": [
      "[mjpeg @ 0x561f6560dc40] overread 8\n"
     ]
    }
   ],
   "source": [
    "import cv2\n",
    "import os\n",
    "\n",
    "# Set the path to the video file\n",
    "video_path = 'visem/video/4_11.03.29_HH.avi'\n",
    "\n",
    "# Set the path to the directory where the frames will be saved\n",
    "frame_dir = 'visem/video-4 frames'\n",
    "\n",
    "# Create the frame directory if it doesn't exist\n",
    "os.makedirs(frame_dir, exist_ok=True)\n",
    "\n",
    "# Read the video file\n",
    "cap = cv2.VideoCapture(video_path)\n",
    "\n",
    "# Loop through each frame in the video and save it as an image file\n",
    "frame_num = 0\n",
    "while cap.isOpened():\n",
    "    ret, frame = cap.read()\n",
    "    if not ret:\n",
    "        break\n",
    "    frame_path = os.path.join(frame_dir, f'frame_{frame_num:06d}.jpg')\n",
    "    cv2.imwrite(frame_path, frame)\n",
    "    frame_num += 1\n",
    "\n",
    "# Release the video capture object\n",
    "cap.release()\n"
   ]
  },
  {
   "cell_type": "code",
   "execution_count": 14,
   "id": "130d08fc-cab2-42c4-a6bb-5f1fe93fe749",
   "metadata": {},
   "outputs": [
    {
     "name": "stderr",
     "output_type": "stream",
     "text": [
      "[mjpeg @ 0x561f65611a80] overread 8\n"
     ]
    }
   ],
   "source": [
    "import cv2\n",
    "import os\n",
    "\n",
    "# Set the path to the video file\n",
    "video_path = 'visem/video/5_11.05.04_JMA.avi'\n",
    "\n",
    "# Set the path to the directory where the frames will be saved\n",
    "frame_dir = 'visem/video-5 frames'\n",
    "\n",
    "# Create the frame directory if it doesn't exist\n",
    "os.makedirs(frame_dir, exist_ok=True)\n",
    "\n",
    "# Read the video file\n",
    "cap = cv2.VideoCapture(video_path)\n",
    "\n",
    "# Loop through each frame in the video and save it as an image file\n",
    "frame_num = 0\n",
    "while cap.isOpened():\n",
    "    ret, frame = cap.read()\n",
    "    if not ret:\n",
    "        break\n",
    "    frame_path = os.path.join(frame_dir, f'frame_{frame_num:06d}.jpg')\n",
    "    cv2.imwrite(frame_path, frame)\n",
    "    frame_num += 1\n",
    "\n",
    "# Release the video capture object\n",
    "cap.release()\n"
   ]
  },
  {
   "cell_type": "code",
   "execution_count": 15,
   "id": "7805d3ba-00a7-498d-9d5e-902caed78142",
   "metadata": {},
   "outputs": [
    {
     "name": "stderr",
     "output_type": "stream",
     "text": [
      "[mjpeg @ 0x561f65616f00] overread 7\n"
     ]
    }
   ],
   "source": [
    "import cv2\n",
    "import os\n",
    "\n",
    "# Set the path to the video file\n",
    "video_path = 'visem/video/6_12.02.08_drift_HH.avi'\n",
    "\n",
    "# Set the path to the directory where the frames will be saved\n",
    "frame_dir = 'visem/video-6 frames'\n",
    "\n",
    "# Create the frame directory if it doesn't exist\n",
    "os.makedirs(frame_dir, exist_ok=True)\n",
    "\n",
    "# Read the video file\n",
    "cap = cv2.VideoCapture(video_path)\n",
    "\n",
    "# Loop through each frame in the video and save it as an image file\n",
    "frame_num = 0\n",
    "while cap.isOpened():\n",
    "    ret, frame = cap.read()\n",
    "    if not ret:\n",
    "        break\n",
    "    frame_path = os.path.join(frame_dir, f'frame_{frame_num:06d}.jpg')\n",
    "    cv2.imwrite(frame_path, frame)\n",
    "    frame_num += 1\n",
    "\n",
    "# Release the video capture object\n",
    "cap.release()\n"
   ]
  },
  {
   "cell_type": "code",
   "execution_count": 16,
   "id": "e7bec12b-03f7-4e3b-aaff-8ed43b5c7c74",
   "metadata": {},
   "outputs": [
    {
     "name": "stderr",
     "output_type": "stream",
     "text": [
      "[mjpeg @ 0x561f656cd980] overread 8\n"
     ]
    }
   ],
   "source": [
    "import cv2\n",
    "import os\n",
    "\n",
    "# Set the path to the video file\n",
    "video_path = 'visem/video/7_12.02.20_minor drift_HH.avi'\n",
    "\n",
    "# Set the path to the directory where the frames will be saved\n",
    "frame_dir = 'visem/video-7 frames'\n",
    "\n",
    "# Create the frame directory if it doesn't exist\n",
    "os.makedirs(frame_dir, exist_ok=True)\n",
    "\n",
    "# Read the video file\n",
    "cap = cv2.VideoCapture(video_path)\n",
    "\n",
    "# Loop through each frame in the video and save it as an image file\n",
    "frame_num = 0\n",
    "while cap.isOpened():\n",
    "    ret, frame = cap.read()\n",
    "    if not ret:\n",
    "        break\n",
    "    frame_path = os.path.join(frame_dir, f'frame_{frame_num:06d}.jpg')\n",
    "    cv2.imwrite(frame_path, frame)\n",
    "    frame_num += 1\n",
    "\n",
    "# Release the video capture object\n",
    "cap.release()\n"
   ]
  },
  {
   "cell_type": "code",
   "execution_count": 17,
   "id": "841ceb2d-02e5-48ea-97be-8e53ca3257ef",
   "metadata": {},
   "outputs": [
    {
     "name": "stderr",
     "output_type": "stream",
     "text": [
      "[mjpeg @ 0x561f656af7c0] overread 8\n"
     ]
    }
   ],
   "source": [
    "import cv2\n",
    "import os\n",
    "\n",
    "# Set the path to the video file\n",
    "video_path = 'visem/video/8_12.02.21_minor drift_HH.avi'\n",
    "\n",
    "# Set the path to the directory where the frames will be saved\n",
    "frame_dir = 'visem/video-8 frames'\n",
    "\n",
    "# Create the frame directory if it doesn't exist\n",
    "os.makedirs(frame_dir, exist_ok=True)\n",
    "\n",
    "# Read the video file\n",
    "cap = cv2.VideoCapture(video_path)\n",
    "\n",
    "# Loop through each frame in the video and save it as an image file\n",
    "frame_num = 0\n",
    "while cap.isOpened():\n",
    "    ret, frame = cap.read()\n",
    "    if not ret:\n",
    "        break\n",
    "    frame_path = os.path.join(frame_dir, f'frame_{frame_num:06d}.jpg')\n",
    "    cv2.imwrite(frame_path, frame)\n",
    "    frame_num += 1\n",
    "\n",
    "# Release the video capture object\n",
    "cap.release()\n"
   ]
  },
  {
   "cell_type": "code",
   "execution_count": 18,
   "id": "96805985-989f-443b-8b36-b594b7de13b2",
   "metadata": {},
   "outputs": [
    {
     "name": "stderr",
     "output_type": "stream",
     "text": [
      "[mjpeg @ 0x561f65616e00] overread 3\n"
     ]
    }
   ],
   "source": [
    "import cv2\n",
    "import os\n",
    "\n",
    "# Set the path to the video file\n",
    "video_path = 'visem/video/9_12.03.06_minor drift_HH.avi'\n",
    "\n",
    "# Set the path to the directory where the frames will be saved\n",
    "frame_dir = 'visem/video-9 frames'\n",
    "\n",
    "# Create the frame directory if it doesn't exist\n",
    "os.makedirs(frame_dir, exist_ok=True)\n",
    "\n",
    "# Read the video file\n",
    "cap = cv2.VideoCapture(video_path)\n",
    "\n",
    "# Loop through each frame in the video and save it as an image file\n",
    "frame_num = 0\n",
    "while cap.isOpened():\n",
    "    ret, frame = cap.read()\n",
    "    if not ret:\n",
    "        break\n",
    "    frame_path = os.path.join(frame_dir, f'frame_{frame_num:06d}.jpg')\n",
    "    cv2.imwrite(frame_path, frame)\n",
    "    frame_num += 1\n",
    "\n",
    "# Release the video capture object\n",
    "cap.release()\n"
   ]
  },
  {
   "cell_type": "code",
   "execution_count": null,
   "id": "ec89216c-d296-45e8-8c58-b9d2ae463ba5",
   "metadata": {},
   "outputs": [],
   "source": [
    "import cv2\n",
    "import os\n",
    "\n",
    "# Set the path to the video file\n",
    "video_path = 'visem/video/10_12.03.12_minor drift_HH.avi'\n",
    "\n",
    "# Set the path to the directory where the frames will be saved\n",
    "frame_dir = 'visem/video-10 frames'\n",
    "\n",
    "# Create the frame directory if it doesn't exist\n",
    "os.makedirs(frame_dir, exist_ok=True)\n",
    "\n",
    "# Read the video file\n",
    "cap = cv2.VideoCapture(video_path)\n",
    "\n",
    "# Loop through each frame in the video and save it as an image file\n",
    "frame_num = 0\n",
    "while cap.isOpened():\n",
    "    ret, frame = cap.read()\n",
    "    if not ret:\n",
    "        break\n",
    "    frame_path = os.path.join(frame_dir, f'frame_{frame_num:06d}.jpg')\n",
    "    cv2.imwrite(frame_path, frame)\n",
    "    frame_num += 1\n",
    "\n",
    "# Release the video capture object\n",
    "cap.release()\n"
   ]
  },
  {
   "cell_type": "code",
   "execution_count": null,
   "id": "06edee4b-b2ca-47dd-a819-48379b103542",
   "metadata": {},
   "outputs": [],
   "source": [
    "import cv2\n",
    "import os\n",
    "\n",
    "# Set the path to the video file\n",
    "video_path = 'visem/video/11_09.01.23_JMA.avi'\n",
    "\n",
    "# Set the path to the directory where the frames will be saved\n",
    "frame_dir = 'visem/video-11 frames'\n",
    "\n",
    "# Create the frame directory if it doesn't exist\n",
    "os.makedirs(frame_dir, exist_ok=True)\n",
    "\n",
    "# Read the video file\n",
    "cap = cv2.VideoCapture(video_path)\n",
    "\n",
    "# Loop through each frame in the video and save it as an image file\n",
    "frame_num = 0\n",
    "while cap.isOpened():\n",
    "    ret, frame = cap.read()\n",
    "    if not ret:\n",
    "        break\n",
    "    frame_path = os.path.join(frame_dir, f'frame_{frame_num:06d}.jpg')\n",
    "    cv2.imwrite(frame_path, frame)\n",
    "    frame_num += 1\n",
    "\n",
    "# Release the video capture object\n",
    "cap.release()\n"
   ]
  },
  {
   "cell_type": "code",
   "execution_count": 19,
   "id": "27b35994-aa53-480d-8ee5-238a7645a6c8",
   "metadata": {},
   "outputs": [
    {
     "name": "stderr",
     "output_type": "stream",
     "text": [
      "[mjpeg @ 0x561f6562a240] overread 8\n"
     ]
    }
   ],
   "source": [
    "import cv2\n",
    "import os\n",
    "\n",
    "# Set the path to the video file\n",
    "video_path = 'visem/video/12_09.01.23_SSW.avi'\n",
    "\n",
    "# Set the path to the directory where the frames will be saved\n",
    "frame_dir = 'visem/video-12 frames'\n",
    "\n",
    "# Create the frame directory if it doesn't exist\n",
    "os.makedirs(frame_dir, exist_ok=True)\n",
    "\n",
    "# Read the video file\n",
    "cap = cv2.VideoCapture(video_path)\n",
    "\n",
    "# Loop through each frame in the video and save it as an image file\n",
    "frame_num = 0\n",
    "while cap.isOpened():\n",
    "    ret, frame = cap.read()\n",
    "    if not ret:\n",
    "        break\n",
    "    frame_path = os.path.join(frame_dir, f'frame_{frame_num:06d}.jpg')\n",
    "    cv2.imwrite(frame_path, frame)\n",
    "    frame_num += 1\n",
    "\n",
    "# Release the video capture object\n",
    "cap.release()\n"
   ]
  },
  {
   "cell_type": "code",
   "execution_count": 20,
   "id": "2ca31e91-9750-4590-ab76-324373dc588c",
   "metadata": {},
   "outputs": [
    {
     "name": "stderr",
     "output_type": "stream",
     "text": [
      "[mjpeg @ 0x561f6562a340] overread 8\n"
     ]
    }
   ],
   "source": [
    "import cv2\n",
    "import os\n",
    "\n",
    "# Set the path to the video file\n",
    "video_path = 'visem/video/13_09.01.26_SSW.avi'\n",
    "\n",
    "# Set the path to the directory where the frames will be saved\n",
    "frame_dir = 'visem/video-13 frames'\n",
    "\n",
    "# Create the frame directory if it doesn't exist\n",
    "os.makedirs(frame_dir, exist_ok=True)\n",
    "\n",
    "# Read the video file\n",
    "cap = cv2.VideoCapture(video_path)\n",
    "\n",
    "# Loop through each frame in the video and save it as an image file\n",
    "frame_num = 0\n",
    "while cap.isOpened():\n",
    "    ret, frame = cap.read()\n",
    "    if not ret:\n",
    "        break\n",
    "    frame_path = os.path.join(frame_dir, f'frame_{frame_num:06d}.jpg')\n",
    "    cv2.imwrite(frame_path, frame)\n",
    "    frame_num += 1\n",
    "\n",
    "# Release the video capture object\n",
    "cap.release()\n"
   ]
  },
  {
   "cell_type": "code",
   "execution_count": 21,
   "id": "6a3472f9-669a-4420-94f7-5e2f13e9c21e",
   "metadata": {},
   "outputs": [
    {
     "name": "stderr",
     "output_type": "stream",
     "text": [
      "[mjpeg @ 0x561f65614380] overread 8\n"
     ]
    }
   ],
   "source": [
    "import cv2\n",
    "import os\n",
    "\n",
    "# Set the path to the video file\n",
    "video_path = 'visem/video/14_09.01.27_SSW.avi'\n",
    "\n",
    "# Set the path to the directory where the frames will be saved\n",
    "frame_dir = 'visem/video-14 frames'\n",
    "\n",
    "# Create the frame directory if it doesn't exist\n",
    "os.makedirs(frame_dir, exist_ok=True)\n",
    "\n",
    "# Read the video file\n",
    "cap = cv2.VideoCapture(video_path)\n",
    "\n",
    "# Loop through each frame in the video and save it as an image file\n",
    "frame_num = 0\n",
    "while cap.isOpened():\n",
    "    ret, frame = cap.read()\n",
    "    if not ret:\n",
    "        break\n",
    "    frame_path = os.path.join(frame_dir, f'frame_{frame_num:06d}.jpg')\n",
    "    cv2.imwrite(frame_path, frame)\n",
    "    frame_num += 1\n",
    "\n",
    "# Release the video capture object\n",
    "cap.release()\n"
   ]
  },
  {
   "cell_type": "code",
   "execution_count": 22,
   "id": "91464453-51f7-47bf-8b4c-c5a0ad85e71b",
   "metadata": {},
   "outputs": [
    {
     "name": "stderr",
     "output_type": "stream",
     "text": [
      "[mjpeg @ 0x561f65621640] overread 8\n"
     ]
    }
   ],
   "source": [
    "import cv2\n",
    "import os\n",
    "\n",
    "# Set the path to the video file\n",
    "video_path = 'visem/video/15_09.01.28_SSW.avi'\n",
    "\n",
    "# Set the path to the directory where the frames will be saved\n",
    "frame_dir = 'visem/video-15 frames'\n",
    "\n",
    "# Create the frame directory if it doesn't exist\n",
    "os.makedirs(frame_dir, exist_ok=True)\n",
    "\n",
    "# Read the video file\n",
    "cap = cv2.VideoCapture(video_path)\n",
    "\n",
    "# Loop through each frame in the video and save it as an image file\n",
    "frame_num = 0\n",
    "while cap.isOpened():\n",
    "    ret, frame = cap.read()\n",
    "    if not ret:\n",
    "        break\n",
    "    frame_path = os.path.join(frame_dir, f'frame_{frame_num:06d}.jpg')\n",
    "    cv2.imwrite(frame_path, frame)\n",
    "    frame_num += 1\n",
    "\n",
    "# Release the video capture object\n",
    "cap.release()\n"
   ]
  },
  {
   "cell_type": "code",
   "execution_count": 23,
   "id": "7959468c-82a5-4ba6-9d26-5403c3d51bb8",
   "metadata": {},
   "outputs": [
    {
     "name": "stderr",
     "output_type": "stream",
     "text": [
      "[mjpeg @ 0x561f65621840] overread 8\n"
     ]
    }
   ],
   "source": [
    "import cv2\n",
    "import os\n",
    "\n",
    "# Set the path to the video file\n",
    "video_path = 'visem/video/16_09.01.28_SSW.avi'\n",
    "\n",
    "# Set the path to the directory where the frames will be saved\n",
    "frame_dir = 'visem/video-16 frames'\n",
    "\n",
    "# Create the frame directory if it doesn't exist\n",
    "os.makedirs(frame_dir, exist_ok=True)\n",
    "\n",
    "# Read the video file\n",
    "cap = cv2.VideoCapture(video_path)\n",
    "\n",
    "# Loop through each frame in the video and save it as an image file\n",
    "frame_num = 0\n",
    "while cap.isOpened():\n",
    "    ret, frame = cap.read()\n",
    "    if not ret:\n",
    "        break\n",
    "    frame_path = os.path.join(frame_dir, f'frame_{frame_num:06d}.jpg')\n",
    "    cv2.imwrite(frame_path, frame)\n",
    "    frame_num += 1\n",
    "\n",
    "# Release the video capture object\n",
    "cap.release()"
   ]
  },
  {
   "cell_type": "code",
   "execution_count": 24,
   "id": "8ff56572-2e2a-4b7c-aa9a-e9c9fa7d7b21",
   "metadata": {},
   "outputs": [
    {
     "name": "stderr",
     "output_type": "stream",
     "text": [
      "[mjpeg @ 0x561f65613580] overread 8\n"
     ]
    }
   ],
   "source": [
    "import cv2\n",
    "import os\n",
    "\n",
    "# Set the path to the video file\n",
    "video_path = 'visem/video/17_09.01.29_SSW.avi'\n",
    "\n",
    "# Set the path to the directory where the frames will be saved\n",
    "frame_dir = 'visem/video-17 frames'\n",
    "\n",
    "# Create the frame directory if it doesn't exist\n",
    "os.makedirs(frame_dir, exist_ok=True)\n",
    "\n",
    "# Read the video file\n",
    "cap = cv2.VideoCapture(video_path)\n",
    "\n",
    "# Loop through each frame in the video and save it as an image file\n",
    "frame_num = 0\n",
    "while cap.isOpened():\n",
    "    ret, frame = cap.read()\n",
    "    if not ret:\n",
    "        break\n",
    "    frame_path = os.path.join(frame_dir, f'frame_{frame_num:06d}.jpg')\n",
    "    cv2.imwrite(frame_path, frame)\n",
    "    frame_num += 1\n",
    "\n",
    "# Release the video capture object\n",
    "cap.release()"
   ]
  },
  {
   "cell_type": "code",
   "execution_count": 25,
   "id": "a210baf5-bcfb-4232-93ad-240e59525cc4",
   "metadata": {},
   "outputs": [
    {
     "name": "stderr",
     "output_type": "stream",
     "text": [
      "[mjpeg @ 0x561f65613100] overread 8\n"
     ]
    }
   ],
   "source": [
    "import cv2\n",
    "import os\n",
    "\n",
    "# Set the path to the video file\n",
    "video_path = 'visem/video/18_09.01.29_SSW.avi'\n",
    "\n",
    "# Set the path to the directory where the frames will be saved\n",
    "frame_dir = 'visem/video-18 frames'\n",
    "\n",
    "# Create the frame directory if it doesn't exist\n",
    "os.makedirs(frame_dir, exist_ok=True)\n",
    "\n",
    "# Read the video file\n",
    "cap = cv2.VideoCapture(video_path)\n",
    "\n",
    "# Loop through each frame in the video and save it as an image file\n",
    "frame_num = 0\n",
    "while cap.isOpened():\n",
    "    ret, frame = cap.read()\n",
    "    if not ret:\n",
    "        break\n",
    "    frame_path = os.path.join(frame_dir, f'frame_{frame_num:06d}.jpg')\n",
    "    cv2.imwrite(frame_path, frame)\n",
    "    frame_num += 1\n",
    "\n",
    "# Release the video capture object\n",
    "cap.release()"
   ]
  },
  {
   "cell_type": "code",
   "execution_count": 26,
   "id": "62fffd94-7c7e-46aa-a23b-c3175b7fd536",
   "metadata": {},
   "outputs": [
    {
     "name": "stderr",
     "output_type": "stream",
     "text": [
      "[mjpeg @ 0x561f65613580] overread 5\n"
     ]
    }
   ],
   "source": [
    "import cv2\n",
    "import os\n",
    "\n",
    "# Set the path to the video file\n",
    "video_path = 'visem/video/19_10.01.06_JMA.avi'\n",
    "\n",
    "# Set the path to the directory where the frames will be saved\n",
    "frame_dir = 'visem/video-19 frames'\n",
    "\n",
    "# Create the frame directory if it doesn't exist\n",
    "os.makedirs(frame_dir, exist_ok=True)\n",
    "\n",
    "# Read the video file\n",
    "cap = cv2.VideoCapture(video_path)\n",
    "\n",
    "# Loop through each frame in the video and save it as an image file\n",
    "frame_num = 0\n",
    "while cap.isOpened():\n",
    "    ret, frame = cap.read()\n",
    "    if not ret:\n",
    "        break\n",
    "    frame_path = os.path.join(frame_dir, f'frame_{frame_num:06d}.jpg')\n",
    "    cv2.imwrite(frame_path, frame)\n",
    "    frame_num += 1\n",
    "\n",
    "# Release the video capture object\n",
    "cap.release()"
   ]
  },
  {
   "cell_type": "code",
   "execution_count": 27,
   "id": "5cf96fda-97a3-485b-9d65-2dcd86eb8650",
   "metadata": {},
   "outputs": [
    {
     "name": "stderr",
     "output_type": "stream",
     "text": [
      "[mjpeg @ 0x561f65613940] overread 8\n"
     ]
    }
   ],
   "source": [
    "import cv2\n",
    "import os\n",
    "\n",
    "# Set the path to the video file\n",
    "video_path = 'visem/video/20_09.02.02_JMA.avi'\n",
    "\n",
    "# Set the path to the directory where the frames will be saved\n",
    "frame_dir = 'visem/video-20 frames'\n",
    "\n",
    "# Create the frame directory if it doesn't exist\n",
    "os.makedirs(frame_dir, exist_ok=True)\n",
    "\n",
    "# Read the video file\n",
    "cap = cv2.VideoCapture(video_path)\n",
    "\n",
    "# Loop through each frame in the video and save it as an image file\n",
    "frame_num = 0\n",
    "while cap.isOpened():\n",
    "    ret, frame = cap.read()\n",
    "    if not ret:\n",
    "        break\n",
    "    frame_path = os.path.join(frame_dir, f'frame_{frame_num:06d}.jpg')\n",
    "    cv2.imwrite(frame_path, frame)\n",
    "    frame_num += 1\n",
    "\n",
    "# Release the video capture object\n",
    "cap.release()"
   ]
  },
  {
   "cell_type": "code",
   "execution_count": 28,
   "id": "61259595-75fc-4782-8273-8ecff87d5401",
   "metadata": {},
   "outputs": [
    {
     "name": "stderr",
     "output_type": "stream",
     "text": [
      "[mjpeg @ 0x561f65613c80] overread 8\n"
     ]
    }
   ],
   "source": [
    "import cv2\n",
    "import os\n",
    "\n",
    "# Set the path to the video file\n",
    "video_path = 'visem/video/21_09.02.03_JMA.avi'\n",
    "\n",
    "# Set the path to the directory where the frames will be saved\n",
    "frame_dir = 'visem/video-21 frames'\n",
    "\n",
    "# Create the frame directory if it doesn't exist\n",
    "os.makedirs(frame_dir, exist_ok=True)\n",
    "\n",
    "# Read the video file\n",
    "cap = cv2.VideoCapture(video_path)\n",
    "\n",
    "# Loop through each frame in the video and save it as an image file\n",
    "frame_num = 0\n",
    "while cap.isOpened():\n",
    "    ret, frame = cap.read()\n",
    "    if not ret:\n",
    "        break\n",
    "    frame_path = os.path.join(frame_dir, f'frame_{frame_num:06d}.jpg')\n",
    "    cv2.imwrite(frame_path, frame)\n",
    "    frame_num += 1\n",
    "\n",
    "# Release the video capture object\n",
    "cap.release()"
   ]
  },
  {
   "cell_type": "code",
   "execution_count": 29,
   "id": "d032b286-9033-4b54-b2ad-7169ae56d088",
   "metadata": {},
   "outputs": [
    {
     "name": "stderr",
     "output_type": "stream",
     "text": [
      "[mjpeg @ 0x561f656297c0] overread 8\n"
     ]
    }
   ],
   "source": [
    "import cv2\n",
    "import os\n",
    "\n",
    "# Set the path to the video file\n",
    "video_path = 'visem/video/22_09.02.04_SSW.avi'\n",
    "\n",
    "# Set the path to the directory where the frames will be saved\n",
    "frame_dir = 'visem/video-22 frames'\n",
    "\n",
    "# Create the frame directory if it doesn't exist\n",
    "os.makedirs(frame_dir, exist_ok=True)\n",
    "\n",
    "# Read the video file\n",
    "cap = cv2.VideoCapture(video_path)\n",
    "\n",
    "# Loop through each frame in the video and save it as an image file\n",
    "frame_num = 0\n",
    "while cap.isOpened():\n",
    "    ret, frame = cap.read()\n",
    "    if not ret:\n",
    "        break\n",
    "    frame_path = os.path.join(frame_dir, f'frame_{frame_num:06d}.jpg')\n",
    "    cv2.imwrite(frame_path, frame)\n",
    "    frame_num += 1\n",
    "\n",
    "# Release the video capture object\n",
    "cap.release()"
   ]
  },
  {
   "cell_type": "code",
   "execution_count": 30,
   "id": "43a4d0eb-3939-4625-9cd2-2afeb5aadfc5",
   "metadata": {},
   "outputs": [
    {
     "name": "stderr",
     "output_type": "stream",
     "text": [
      "[mjpeg @ 0x561f656c1580] overread 8\n"
     ]
    }
   ],
   "source": [
    "import cv2\n",
    "import os\n",
    "\n",
    "# Set the path to the video file\n",
    "video_path = 'visem/video/23_09.02.04_SSW.avi'\n",
    "\n",
    "# Set the path to the directory where the frames will be saved\n",
    "frame_dir = 'visem/video-23 frames'\n",
    "\n",
    "# Create the frame directory if it doesn't exist\n",
    "os.makedirs(frame_dir, exist_ok=True)\n",
    "\n",
    "# Read the video file\n",
    "cap = cv2.VideoCapture(video_path)\n",
    "\n",
    "# Loop through each frame in the video and save it as an image file\n",
    "frame_num = 0\n",
    "while cap.isOpened():\n",
    "    ret, frame = cap.read()\n",
    "    if not ret:\n",
    "        break\n",
    "    frame_path = os.path.join(frame_dir, f'frame_{frame_num:06d}.jpg')\n",
    "    cv2.imwrite(frame_path, frame)\n",
    "    frame_num += 1\n",
    "\n",
    "# Release the video capture object\n",
    "cap.release()"
   ]
  },
  {
   "cell_type": "code",
   "execution_count": 31,
   "id": "d9051975-43f5-4947-ba78-9c266255d76e",
   "metadata": {},
   "outputs": [],
   "source": [
    "import cv2\n",
    "import os\n",
    "\n",
    "# Set the path to the video file\n",
    "video_path = 'visem/video/24_09.02.04_SSW.avi'\n",
    "\n",
    "# Set the path to the directory where the frames will be saved\n",
    "frame_dir = 'visem/video-24 frames'\n",
    "\n",
    "# Create the frame directory if it doesn't exist\n",
    "os.makedirs(frame_dir, exist_ok=True)\n",
    "\n",
    "# Read the video file\n",
    "cap = cv2.VideoCapture(video_path)\n",
    "\n",
    "# Loop through each frame in the video and save it as an image file\n",
    "frame_num = 0\n",
    "while cap.isOpened():\n",
    "    ret, frame = cap.read()\n",
    "    if not ret:\n",
    "        break\n",
    "    frame_path = os.path.join(frame_dir, f'frame_{frame_num:06d}.jpg')\n",
    "    cv2.imwrite(frame_path, frame)\n",
    "    frame_num += 1\n",
    "\n",
    "# Release the video capture object\n",
    "cap.release()"
   ]
  },
  {
   "cell_type": "code",
   "execution_count": 32,
   "id": "a72c8550-bd56-4c3e-8928-c94ab562e5cb",
   "metadata": {},
   "outputs": [
    {
     "name": "stderr",
     "output_type": "stream",
     "text": [
      "[mjpeg @ 0x561f6561cc40] overread 8\n"
     ]
    }
   ],
   "source": [
    "import cv2\n",
    "import os\n",
    "\n",
    "# Set the path to the video file\n",
    "video_path = 'visem/video/25_09.02.06_IVS.avi'\n",
    "\n",
    "# Set the path to the directory where the frames will be saved\n",
    "frame_dir = 'visem/video-25 frames'\n",
    "\n",
    "# Create the frame directory if it doesn't exist\n",
    "os.makedirs(frame_dir, exist_ok=True)\n",
    "\n",
    "# Read the video file\n",
    "cap = cv2.VideoCapture(video_path)\n",
    "\n",
    "# Loop through each frame in the video and save it as an image file\n",
    "frame_num = 0\n",
    "while cap.isOpened():\n",
    "    ret, frame = cap.read()\n",
    "    if not ret:\n",
    "        break\n",
    "    frame_path = os.path.join(frame_dir, f'frame_{frame_num:06d}.jpg')\n",
    "    cv2.imwrite(frame_path, frame)\n",
    "    frame_num += 1\n",
    "\n",
    "# Release the video capture object\n",
    "cap.release()"
   ]
  },
  {
   "cell_type": "code",
   "execution_count": 33,
   "id": "c1acf48c-6273-48d4-9bf1-d3e23015b820",
   "metadata": {},
   "outputs": [
    {
     "name": "stderr",
     "output_type": "stream",
     "text": [
      "[mjpeg @ 0x561f656c0b80] overread 8\n"
     ]
    }
   ],
   "source": [
    "import cv2\n",
    "import os\n",
    "\n",
    "# Set the path to the video file\n",
    "video_path = 'visem/video/26_09.02.12_IVS.avi'\n",
    "\n",
    "# Set the path to the directory where the frames will be saved\n",
    "frame_dir = 'visem/video-26 frames'\n",
    "\n",
    "# Create the frame directory if it doesn't exist\n",
    "os.makedirs(frame_dir, exist_ok=True)\n",
    "\n",
    "# Read the video file\n",
    "cap = cv2.VideoCapture(video_path)\n",
    "\n",
    "# Loop through each frame in the video and save it as an image file\n",
    "frame_num = 0\n",
    "while cap.isOpened():\n",
    "    ret, frame = cap.read()\n",
    "    if not ret:\n",
    "        break\n",
    "    frame_path = os.path.join(frame_dir, f'frame_{frame_num:06d}.jpg')\n",
    "    cv2.imwrite(frame_path, frame)\n",
    "    frame_num += 1\n",
    "\n",
    "# Release the video capture object\n",
    "cap.release()"
   ]
  },
  {
   "cell_type": "code",
   "execution_count": 34,
   "id": "9ebb39b9-8800-4b26-9432-f458ee4f98ec",
   "metadata": {},
   "outputs": [
    {
     "name": "stderr",
     "output_type": "stream",
     "text": [
      "[mjpeg @ 0x561f6561f1c0] overread 8\n"
     ]
    }
   ],
   "source": [
    "import cv2\n",
    "import os\n",
    "\n",
    "# Set the path to the video file\n",
    "video_path = 'visem/video/27_09.02.18_IVS.avi'\n",
    "\n",
    "# Set the path to the directory where the frames will be saved\n",
    "frame_dir = 'visem/video-27 frames'\n",
    "\n",
    "# Create the frame directory if it doesn't exist\n",
    "os.makedirs(frame_dir, exist_ok=True)\n",
    "\n",
    "# Read the video file\n",
    "cap = cv2.VideoCapture(video_path)\n",
    "\n",
    "# Loop through each frame in the video and save it as an image file\n",
    "frame_num = 0\n",
    "while cap.isOpened():\n",
    "    ret, frame = cap.read()\n",
    "    if not ret:\n",
    "        break\n",
    "    frame_path = os.path.join(frame_dir, f'frame_{frame_num:06d}.jpg')\n",
    "    cv2.imwrite(frame_path, frame)\n",
    "    frame_num += 1\n",
    "\n",
    "# Release the video capture object\n",
    "cap.release()"
   ]
  },
  {
   "cell_type": "code",
   "execution_count": 35,
   "id": "7693cbf1-ddf1-4cb2-a618-0f51d025f0d1",
   "metadata": {},
   "outputs": [
    {
     "name": "stderr",
     "output_type": "stream",
     "text": [
      "[mjpeg @ 0x561f6561f1c0] overread 8\n"
     ]
    }
   ],
   "source": [
    "import cv2\n",
    "import os\n",
    "\n",
    "# Set the path to the video file\n",
    "video_path = 'visem/video/28_09.06.05_SSW.avi'\n",
    "\n",
    "# Set the path to the directory where the frames will be saved\n",
    "frame_dir = 'visem/video-28 frames'\n",
    "\n",
    "# Create the frame directory if it doesn't exist\n",
    "os.makedirs(frame_dir, exist_ok=True)\n",
    "\n",
    "# Read the video file\n",
    "cap = cv2.VideoCapture(video_path)\n",
    "\n",
    "# Loop through each frame in the video and save it as an image file\n",
    "frame_num = 0\n",
    "while cap.isOpened():\n",
    "    ret, frame = cap.read()\n",
    "    if not ret:\n",
    "        break\n",
    "    frame_path = os.path.join(frame_dir, f'frame_{frame_num:06d}.jpg')\n",
    "    cv2.imwrite(frame_path, frame)\n",
    "    frame_num += 1\n",
    "\n",
    "# Release the video capture object\n",
    "cap.release()"
   ]
  },
  {
   "cell_type": "code",
   "execution_count": 36,
   "id": "68618aa4-cf94-49b7-9279-ab3509775b48",
   "metadata": {},
   "outputs": [
    {
     "name": "stderr",
     "output_type": "stream",
     "text": [
      "[mjpeg @ 0x561f65600880] overread 8\n"
     ]
    }
   ],
   "source": [
    "import cv2\n",
    "import os\n",
    "\n",
    "# Set the path to the video file\n",
    "video_path = 'visem/video/29_09.03.12_SSW.avi'\n",
    "\n",
    "# Set the path to the directory where the frames will be saved\n",
    "frame_dir = 'visem/video-29 frames'\n",
    "\n",
    "# Create the frame directory if it doesn't exist\n",
    "os.makedirs(frame_dir, exist_ok=True)\n",
    "\n",
    "# Read the video file\n",
    "cap = cv2.VideoCapture(video_path)\n",
    "\n",
    "# Loop through each frame in the video and save it as an image file\n",
    "frame_num = 0\n",
    "while cap.isOpened():\n",
    "    ret, frame = cap.read()\n",
    "    if not ret:\n",
    "        break\n",
    "    frame_path = os.path.join(frame_dir, f'frame_{frame_num:06d}.jpg')\n",
    "    cv2.imwrite(frame_path, frame)\n",
    "    frame_num += 1\n",
    "\n",
    "# Release the video capture object\n",
    "cap.release()"
   ]
  },
  {
   "cell_type": "code",
   "execution_count": 37,
   "id": "21622526-2ab5-43f0-a1e4-8df714574927",
   "metadata": {},
   "outputs": [
    {
     "name": "stderr",
     "output_type": "stream",
     "text": [
      "[mjpeg @ 0x561f656ca340] overread 8\n"
     ]
    }
   ],
   "source": [
    "import cv2\n",
    "import os\n",
    "\n",
    "# Set the path to the video file\n",
    "video_path = 'visem/video/30_09.03.25_SSW.avi'\n",
    "\n",
    "# Set the path to the directory where the frames will be saved\n",
    "frame_dir = 'visem/video-30 frames'\n",
    "\n",
    "# Create the frame directory if it doesn't exist\n",
    "os.makedirs(frame_dir, exist_ok=True)\n",
    "\n",
    "# Read the video file\n",
    "cap = cv2.VideoCapture(video_path)\n",
    "\n",
    "# Loop through each frame in the video and save it as an image file\n",
    "frame_num = 0\n",
    "while cap.isOpened():\n",
    "    ret, frame = cap.read()\n",
    "    if not ret:\n",
    "        break\n",
    "    frame_path = os.path.join(frame_dir, f'frame_{frame_num:06d}.jpg')\n",
    "    cv2.imwrite(frame_path, frame)\n",
    "    frame_num += 1\n",
    "\n",
    "# Release the video capture object\n",
    "cap.release()"
   ]
  },
  {
   "cell_type": "code",
   "execution_count": 38,
   "id": "5cb0f3ef-8010-4d39-9736-5adb2bcc5271",
   "metadata": {},
   "outputs": [
    {
     "name": "stderr",
     "output_type": "stream",
     "text": [
      "[mjpeg @ 0x561f6560edc0] overread 8\n"
     ]
    }
   ],
   "source": [
    "import cv2\n",
    "import os\n",
    "\n",
    "# Set the path to the video file\n",
    "video_path = 'visem/video/31_10.04.22_JMA.avi'\n",
    "\n",
    "# Set the path to the directory where the frames will be saved\n",
    "frame_dir = 'visem/video-31 frames'\n",
    "\n",
    "# Create the frame directory if it doesn't exist\n",
    "os.makedirs(frame_dir, exist_ok=True)\n",
    "\n",
    "# Read the video file\n",
    "cap = cv2.VideoCapture(video_path)\n",
    "\n",
    "# Loop through each frame in the video and save it as an image file\n",
    "frame_num = 0\n",
    "while cap.isOpened():\n",
    "    ret, frame = cap.read()\n",
    "    if not ret:\n",
    "        break\n",
    "    frame_path = os.path.join(frame_dir, f'frame_{frame_num:06d}.jpg')\n",
    "    cv2.imwrite(frame_path, frame)\n",
    "    frame_num += 1\n",
    "\n",
    "# Release the video capture object\n",
    "cap.release()"
   ]
  },
  {
   "cell_type": "code",
   "execution_count": 39,
   "id": "bff2978a-e41d-4883-a1ca-e51c677b4b37",
   "metadata": {},
   "outputs": [
    {
     "name": "stderr",
     "output_type": "stream",
     "text": [
      "[mjpeg @ 0x561f6560f600] overread 8\n"
     ]
    }
   ],
   "source": [
    "import cv2\n",
    "import os\n",
    "\n",
    "# Set the path to the video file\n",
    "video_path = 'visem/video/32_09.06.23_OW.avi'\n",
    "\n",
    "# Set the path to the directory where the frames will be saved\n",
    "frame_dir = 'visem/video-32 frames'\n",
    "\n",
    "# Create the frame directory if it doesn't exist\n",
    "os.makedirs(frame_dir, exist_ok=True)\n",
    "\n",
    "# Read the video file\n",
    "cap = cv2.VideoCapture(video_path)\n",
    "\n",
    "# Loop through each frame in the video and save it as an image file\n",
    "frame_num = 0\n",
    "while cap.isOpened():\n",
    "    ret, frame = cap.read()\n",
    "    if not ret:\n",
    "        break\n",
    "    frame_path = os.path.join(frame_dir, f'frame_{frame_num:06d}.jpg')\n",
    "    cv2.imwrite(frame_path, frame)\n",
    "    frame_num += 1\n",
    "\n",
    "# Release the video capture object\n",
    "cap.release()"
   ]
  },
  {
   "cell_type": "code",
   "execution_count": 40,
   "id": "a1eb04d3-08f6-4d97-81cb-965cba21ba4f",
   "metadata": {},
   "outputs": [
    {
     "name": "stderr",
     "output_type": "stream",
     "text": [
      "[mjpeg @ 0x561f6560ffc0] overread 8\n"
     ]
    }
   ],
   "source": [
    "import cv2\n",
    "import os\n",
    "\n",
    "# Set the path to the video file\n",
    "video_path = 'visem/video/33_09.06.25_OW.avi'\n",
    "\n",
    "# Set the path to the directory where the frames will be saved\n",
    "frame_dir = 'visem/video-33 frames'\n",
    "\n",
    "# Create the frame directory if it doesn't exist\n",
    "os.makedirs(frame_dir, exist_ok=True)\n",
    "\n",
    "# Read the video file\n",
    "cap = cv2.VideoCapture(video_path)\n",
    "\n",
    "# Loop through each frame in the video and save it as an image file\n",
    "frame_num = 0\n",
    "while cap.isOpened():\n",
    "    ret, frame = cap.read()\n",
    "    if not ret:\n",
    "        break\n",
    "    frame_path = os.path.join(frame_dir, f'frame_{frame_num:06d}.jpg')\n",
    "    cv2.imwrite(frame_path, frame)\n",
    "    frame_num += 1\n",
    "\n",
    "# Release the video capture object\n",
    "cap.release()"
   ]
  },
  {
   "cell_type": "code",
   "execution_count": 41,
   "id": "b45b8153-d33a-46b6-a679-c24b6336ff1c",
   "metadata": {},
   "outputs": [
    {
     "name": "stderr",
     "output_type": "stream",
     "text": [
      "[mjpeg @ 0x561f656ad400] overread 8\n"
     ]
    }
   ],
   "source": [
    "import cv2\n",
    "import os\n",
    "\n",
    "# Set the path to the video file\n",
    "video_path = 'visem/video/34_09.06.26_OW.avi'\n",
    "\n",
    "# Set the path to the directory where the frames will be saved\n",
    "frame_dir = 'visem/video-34 frames'\n",
    "\n",
    "# Create the frame directory if it doesn't exist\n",
    "os.makedirs(frame_dir, exist_ok=True)\n",
    "\n",
    "# Read the video file\n",
    "cap = cv2.VideoCapture(video_path)\n",
    "\n",
    "# Loop through each frame in the video and save it as an image file\n",
    "frame_num = 0\n",
    "while cap.isOpened():\n",
    "    ret, frame = cap.read()\n",
    "    if not ret:\n",
    "        break\n",
    "    frame_path = os.path.join(frame_dir, f'frame_{frame_num:06d}.jpg')\n",
    "    cv2.imwrite(frame_path, frame)\n",
    "    frame_num += 1\n",
    "\n",
    "# Release the video capture object\n",
    "cap.release()"
   ]
  },
  {
   "cell_type": "code",
   "execution_count": 42,
   "id": "eb931fcb-64ff-4a51-8ece-4b2f5d3cf9bf",
   "metadata": {},
   "outputs": [
    {
     "name": "stderr",
     "output_type": "stream",
     "text": [
      "[mjpeg @ 0x561f656adc80] overread 8\n"
     ]
    }
   ],
   "source": [
    "import cv2\n",
    "import os\n",
    "\n",
    "# Set the path to the video file\n",
    "video_path = 'visem/video/35_09.06.29_OW.avi'\n",
    "\n",
    "# Set the path to the directory where the frames will be saved\n",
    "frame_dir = 'visem/video-35 frames'\n",
    "\n",
    "# Create the frame directory if it doesn't exist\n",
    "os.makedirs(frame_dir, exist_ok=True)\n",
    "\n",
    "# Read the video file\n",
    "cap = cv2.VideoCapture(video_path)\n",
    "\n",
    "# Loop through each frame in the video and save it as an image file\n",
    "frame_num = 0\n",
    "while cap.isOpened():\n",
    "    ret, frame = cap.read()\n",
    "    if not ret:\n",
    "        break\n",
    "    frame_path = os.path.join(frame_dir, f'frame_{frame_num:06d}.jpg')\n",
    "    cv2.imwrite(frame_path, frame)\n",
    "    frame_num += 1\n",
    "\n",
    "# Release the video capture object\n",
    "cap.release()"
   ]
  },
  {
   "cell_type": "code",
   "execution_count": 43,
   "id": "4a026bef-0f41-4062-8f8e-32b20484b6d8",
   "metadata": {},
   "outputs": [
    {
     "name": "stderr",
     "output_type": "stream",
     "text": [
      "[mjpeg @ 0x561f656ae040] overread 8\n"
     ]
    }
   ],
   "source": [
    "import cv2\n",
    "import os\n",
    "\n",
    "# Set the path to the video file\n",
    "video_path = 'visem/video/36_09.07.01_OW.avi'\n",
    "\n",
    "# Set the path to the directory where the frames will be saved\n",
    "frame_dir = 'visem/video-36 frames'\n",
    "\n",
    "# Create the frame directory if it doesn't exist\n",
    "os.makedirs(frame_dir, exist_ok=True)\n",
    "\n",
    "# Read the video file\n",
    "cap = cv2.VideoCapture(video_path)\n",
    "\n",
    "# Loop through each frame in the video and save it as an image file\n",
    "frame_num = 0\n",
    "while cap.isOpened():\n",
    "    ret, frame = cap.read()\n",
    "    if not ret:\n",
    "        break\n",
    "    frame_path = os.path.join(frame_dir, f'frame_{frame_num:06d}.jpg')\n",
    "    cv2.imwrite(frame_path, frame)\n",
    "    frame_num += 1\n",
    "\n",
    "# Release the video capture object\n",
    "cap.release()"
   ]
  },
  {
   "cell_type": "code",
   "execution_count": 2,
   "id": "b9c9671d-5750-4644-8a03-68095b1eef15",
   "metadata": {},
   "outputs": [
    {
     "name": "stderr",
     "output_type": "stream",
     "text": [
      "[mjpeg @ 0x56193219af40] overread 8\n"
     ]
    }
   ],
   "source": [
    "import cv2\n",
    "import os\n",
    "\n",
    "# Set the path to the video file\n",
    "video_path = 'visem/video/37_09.07.27_SSW.avi'\n",
    "\n",
    "# Set the path to the directory where the frames will be saved\n",
    "frame_dir = 'visem/video-37 frames'\n",
    "\n",
    "# Create the frame directory if it doesn't exist\n",
    "os.makedirs(frame_dir, exist_ok=True)\n",
    "\n",
    "# Read the video file\n",
    "cap = cv2.VideoCapture(video_path)\n",
    "\n",
    "# Loop through each frame in the video and save it as an image file\n",
    "frame_num = 0\n",
    "while cap.isOpened():\n",
    "    ret, frame = cap.read()\n",
    "    if not ret:\n",
    "        break\n",
    "    frame_path = os.path.join(frame_dir, f'frame_{frame_num:06d}.jpg')\n",
    "    cv2.imwrite(frame_path, frame)\n",
    "    frame_num += 1\n",
    "\n",
    "# Release the video capture object\n",
    "cap.release()"
   ]
  },
  {
   "cell_type": "code",
   "execution_count": 1,
   "id": "29e8c0f3-10af-497f-8997-b450b27ed670",
   "metadata": {},
   "outputs": [
    {
     "name": "stderr",
     "output_type": "stream",
     "text": [
      "[mjpeg @ 0x55b147dd0b80] overread 8\n"
     ]
    }
   ],
   "source": [
    "import cv2\n",
    "import os\n",
    "\n",
    "# Set the path to the video file\n",
    "video_path = 'visem/video/38_09.08.24_SSW.avi'\n",
    "\n",
    "# Set the path to the directory where the frames will be saved\n",
    "frame_dir = 'visem/video-38 frames'\n",
    "\n",
    "# Create the frame directory if it doesn't exist\n",
    "os.makedirs(frame_dir, exist_ok=True)\n",
    "\n",
    "# Read the video file\n",
    "cap = cv2.VideoCapture(video_path)\n",
    "\n",
    "# Loop through each frame in the video and save it as an image file\n",
    "frame_num = 0\n",
    "while cap.isOpened():\n",
    "    ret, frame = cap.read()\n",
    "    if not ret:\n",
    "        break\n",
    "    frame_path = os.path.join(frame_dir, f'frame_{frame_num:06d}.jpg')\n",
    "    cv2.imwrite(frame_path, frame)\n",
    "    frame_num += 1\n",
    "\n",
    "# Release the video capture object\n",
    "cap.release()"
   ]
  },
  {
   "cell_type": "code",
   "execution_count": 2,
   "id": "b1a36225-3413-4038-a3a0-5960f398a4da",
   "metadata": {},
   "outputs": [
    {
     "name": "stderr",
     "output_type": "stream",
     "text": [
      "[mjpeg @ 0x55b147e8ad80] overread 8\n"
     ]
    }
   ],
   "source": [
    "import cv2\n",
    "import os\n",
    "\n",
    "# Set the path to the video file\n",
    "video_path = 'visem/video/39_09.09.16_SSW.avi'\n",
    "\n",
    "# Set the path to the directory where the frames will be saved\n",
    "frame_dir = 'visem/video-39 frames'\n",
    "\n",
    "# Create the frame directory if it doesn't exist\n",
    "os.makedirs(frame_dir, exist_ok=True)\n",
    "\n",
    "# Read the video file\n",
    "cap = cv2.VideoCapture(video_path)\n",
    "\n",
    "# Loop through each frame in the video and save it as an image file\n",
    "frame_num = 0\n",
    "while cap.isOpened():\n",
    "    ret, frame = cap.read()\n",
    "    if not ret:\n",
    "        break\n",
    "    frame_path = os.path.join(frame_dir, f'frame_{frame_num:06d}.jpg')\n",
    "    cv2.imwrite(frame_path, frame)\n",
    "    frame_num += 1\n",
    "\n",
    "# Release the video capture object\n",
    "cap.release()"
   ]
  },
  {
   "cell_type": "code",
   "execution_count": 3,
   "id": "ed1b829e-b37a-49a6-8e54-9e4f676aa5ba",
   "metadata": {},
   "outputs": [
    {
     "name": "stderr",
     "output_type": "stream",
     "text": [
      "[mjpeg @ 0x55b147e8b5c0] overread 8\n"
     ]
    }
   ],
   "source": [
    "import cv2\n",
    "import os\n",
    "\n",
    "# Set the path to the video file\n",
    "video_path = 'visem/video/40_09.09.25_SSW.avi'\n",
    "\n",
    "# Set the path to the directory where the frames will be saved\n",
    "frame_dir = 'visem/video-40 frames'\n",
    "\n",
    "# Create the frame directory if it doesn't exist\n",
    "os.makedirs(frame_dir, exist_ok=True)\n",
    "\n",
    "# Read the video file\n",
    "cap = cv2.VideoCapture(video_path)\n",
    "\n",
    "# Loop through each frame in the video and save it as an image file\n",
    "frame_num = 0\n",
    "while cap.isOpened():\n",
    "    ret, frame = cap.read()\n",
    "    if not ret:\n",
    "        break\n",
    "    frame_path = os.path.join(frame_dir, f'frame_{frame_num:06d}.jpg')\n",
    "    cv2.imwrite(frame_path, frame)\n",
    "    frame_num += 1\n",
    "\n",
    "# Release the video capture object\n",
    "cap.release()"
   ]
  },
  {
   "cell_type": "code",
   "execution_count": 4,
   "id": "2da2db2e-c216-4d87-a4df-f2e8d06eabfa",
   "metadata": {},
   "outputs": [
    {
     "name": "stderr",
     "output_type": "stream",
     "text": [
      "[mjpeg @ 0x55b147dba600] overread 8\n"
     ]
    }
   ],
   "source": [
    "import cv2\n",
    "import os\n",
    "\n",
    "# Set the path to the video file\n",
    "video_path = 'visem/video/41_09.10.12_minor drift_SSW.avi'\n",
    "\n",
    "# Set the path to the directory where the frames will be saved\n",
    "frame_dir = 'visem/video-41 frames'\n",
    "\n",
    "# Create the frame directory if it doesn't exist\n",
    "os.makedirs(frame_dir, exist_ok=True)\n",
    "\n",
    "# Read the video file\n",
    "cap = cv2.VideoCapture(video_path)\n",
    "\n",
    "# Loop through each frame in the video and save it as an image file\n",
    "frame_num = 0\n",
    "while cap.isOpened():\n",
    "    ret, frame = cap.read()\n",
    "    if not ret:\n",
    "        break\n",
    "    frame_path = os.path.join(frame_dir, f'frame_{frame_num:06d}.jpg')\n",
    "    cv2.imwrite(frame_path, frame)\n",
    "    frame_num += 1\n",
    "\n",
    "# Release the video capture object\n",
    "cap.release()"
   ]
  },
  {
   "cell_type": "code",
   "execution_count": 5,
   "id": "3ef712c1-715d-42fd-8e7d-3b797f418fbe",
   "metadata": {},
   "outputs": [
    {
     "name": "stderr",
     "output_type": "stream",
     "text": [
      "[mjpeg @ 0x55b147dd1dc0] overread 8\n"
     ]
    }
   ],
   "source": [
    "import cv2\n",
    "import os\n",
    "\n",
    "# Set the path to the video file\n",
    "video_path = 'visem/video/42_09.10.13_minor drift_SSW.avi'\n",
    "\n",
    "# Set the path to the directory where the frames will be saved\n",
    "frame_dir = 'visem/video-42 frames'\n",
    "\n",
    "# Create the frame directory if it doesn't exist\n",
    "os.makedirs(frame_dir, exist_ok=True)\n",
    "\n",
    "# Read the video file\n",
    "cap = cv2.VideoCapture(video_path)\n",
    "\n",
    "# Loop through each frame in the video and save it as an image file\n",
    "frame_num = 0\n",
    "while cap.isOpened():\n",
    "    ret, frame = cap.read()\n",
    "    if not ret:\n",
    "        break\n",
    "    frame_path = os.path.join(frame_dir, f'frame_{frame_num:06d}.jpg')\n",
    "    cv2.imwrite(frame_path, frame)\n",
    "    frame_num += 1\n",
    "\n",
    "# Release the video capture object\n",
    "cap.release()"
   ]
  },
  {
   "cell_type": "code",
   "execution_count": 6,
   "id": "d0c7c44c-958e-4482-a851-e25e5d5beac0",
   "metadata": {},
   "outputs": [
    {
     "name": "stderr",
     "output_type": "stream",
     "text": [
      "[mjpeg @ 0x55b147dbca00] overread 3\n"
     ]
    }
   ],
   "source": [
    "import cv2\n",
    "import os\n",
    "\n",
    "# Set the path to the video file\n",
    "video_path = 'visem/video/43_09.10.14_drift_SSW.avi'\n",
    "\n",
    "# Set the path to the directory where the frames will be saved\n",
    "frame_dir = 'visem/video-43 frames'\n",
    "\n",
    "# Create the frame directory if it doesn't exist\n",
    "os.makedirs(frame_dir, exist_ok=True)\n",
    "\n",
    "# Read the video file\n",
    "cap = cv2.VideoCapture(video_path)\n",
    "\n",
    "# Loop through each frame in the video and save it as an image file\n",
    "frame_num = 0\n",
    "while cap.isOpened():\n",
    "    ret, frame = cap.read()\n",
    "    if not ret:\n",
    "        break\n",
    "    frame_path = os.path.join(frame_dir, f'frame_{frame_num:06d}.jpg')\n",
    "    cv2.imwrite(frame_path, frame)\n",
    "    frame_num += 1\n",
    "\n",
    "# Release the video capture object\n",
    "cap.release()"
   ]
  },
  {
   "cell_type": "code",
   "execution_count": 7,
   "id": "0f798740-c31a-4bd0-a00f-36118162b5ad",
   "metadata": {},
   "outputs": [
    {
     "name": "stderr",
     "output_type": "stream",
     "text": [
      "[mjpeg @ 0x55b147dd4a00] overread 2\n"
     ]
    }
   ],
   "source": [
    "import cv2\n",
    "import os\n",
    "\n",
    "# Set the path to the video file\n",
    "video_path = 'visem/video/44_09.10.14_drift_SSW.avi'\n",
    "\n",
    "# Set the path to the directory where the frames will be saved\n",
    "frame_dir = 'visem/video-44 frames'\n",
    "\n",
    "# Create the frame directory if it doesn't exist\n",
    "os.makedirs(frame_dir, exist_ok=True)\n",
    "\n",
    "# Read the video file\n",
    "cap = cv2.VideoCapture(video_path)\n",
    "\n",
    "# Loop through each frame in the video and save it as an image file\n",
    "frame_num = 0\n",
    "while cap.isOpened():\n",
    "    ret, frame = cap.read()\n",
    "    if not ret:\n",
    "        break\n",
    "    frame_path = os.path.join(frame_dir, f'frame_{frame_num:06d}.jpg')\n",
    "    cv2.imwrite(frame_path, frame)\n",
    "    frame_num += 1\n",
    "\n",
    "# Release the video capture object\n",
    "cap.release()"
   ]
  },
  {
   "cell_type": "code",
   "execution_count": 8,
   "id": "86e497dc-9c6e-4abe-b607-e2babfe73e6e",
   "metadata": {},
   "outputs": [
    {
     "name": "stderr",
     "output_type": "stream",
     "text": [
      "[mjpeg @ 0x55b147dd4480] overread 8\n"
     ]
    }
   ],
   "source": [
    "import cv2\n",
    "import os\n",
    "\n",
    "# Set the path to the video file\n",
    "video_path = 'visem/video/45_09.10.16_SSW.avi'\n",
    "\n",
    "# Set the path to the directory where the frames will be saved\n",
    "frame_dir = 'visem/video-45 frames'\n",
    "\n",
    "# Create the frame directory if it doesn't exist\n",
    "os.makedirs(frame_dir, exist_ok=True)\n",
    "\n",
    "# Read the video file\n",
    "cap = cv2.VideoCapture(video_path)\n",
    "\n",
    "# Loop through each frame in the video and save it as an image file\n",
    "frame_num = 0\n",
    "while cap.isOpened():\n",
    "    ret, frame = cap.read()\n",
    "    if not ret:\n",
    "        break\n",
    "    frame_path = os.path.join(frame_dir, f'frame_{frame_num:06d}.jpg')\n",
    "    cv2.imwrite(frame_path, frame)\n",
    "    frame_num += 1\n",
    "\n",
    "# Release the video capture object\n",
    "cap.release()"
   ]
  },
  {
   "cell_type": "code",
   "execution_count": 9,
   "id": "cf10b649-99ce-41e9-af5b-83867118c7cd",
   "metadata": {},
   "outputs": [
    {
     "name": "stderr",
     "output_type": "stream",
     "text": [
      "[mjpeg @ 0x55b147dd4900] overread 8\n"
     ]
    }
   ],
   "source": [
    "import cv2\n",
    "import os\n",
    "\n",
    "# Set the path to the video file\n",
    "video_path = 'visem/video/46_09.10.19_minor drift_SSW.avi'\n",
    "\n",
    "# Set the path to the directory where the frames will be saved\n",
    "frame_dir = 'visem/video-46 frames'\n",
    "\n",
    "# Create the frame directory if it doesn't exist\n",
    "os.makedirs(frame_dir, exist_ok=True)\n",
    "\n",
    "# Read the video file\n",
    "cap = cv2.VideoCapture(video_path)\n",
    "\n",
    "# Loop through each frame in the video and save it as an image file\n",
    "frame_num = 0\n",
    "while cap.isOpened():\n",
    "    ret, frame = cap.read()\n",
    "    if not ret:\n",
    "        break\n",
    "    frame_path = os.path.join(frame_dir, f'frame_{frame_num:06d}.jpg')\n",
    "    cv2.imwrite(frame_path, frame)\n",
    "    frame_num += 1\n",
    "\n",
    "# Release the video capture object\n",
    "cap.release()"
   ]
  },
  {
   "cell_type": "code",
   "execution_count": 10,
   "id": "f2fb5056-8581-4f10-9410-b8e80b97ea0b",
   "metadata": {},
   "outputs": [
    {
     "name": "stderr",
     "output_type": "stream",
     "text": [
      "[mjpeg @ 0x55b147e8a240] overread 7\n"
     ]
    }
   ],
   "source": [
    "import cv2\n",
    "import os\n",
    "\n",
    "# Set the path to the video file\n",
    "video_path = 'visem/video/47_09.10.19_SSW.avi'\n",
    "\n",
    "# Set the path to the directory where the frames will be saved\n",
    "frame_dir = 'visem/video-47 frames'\n",
    "\n",
    "# Create the frame directory if it doesn't exist\n",
    "os.makedirs(frame_dir, exist_ok=True)\n",
    "\n",
    "# Read the video file\n",
    "cap = cv2.VideoCapture(video_path)\n",
    "\n",
    "# Loop through each frame in the video and save it as an image file\n",
    "frame_num = 0\n",
    "while cap.isOpened():\n",
    "    ret, frame = cap.read()\n",
    "    if not ret:\n",
    "        break\n",
    "    frame_path = os.path.join(frame_dir, f'frame_{frame_num:06d}.jpg')\n",
    "    cv2.imwrite(frame_path, frame)\n",
    "    frame_num += 1\n",
    "\n",
    "# Release the video capture object\n",
    "cap.release()"
   ]
  },
  {
   "cell_type": "code",
   "execution_count": 11,
   "id": "9e605227-98fe-4371-82e3-2f0301ef024e",
   "metadata": {},
   "outputs": [
    {
     "name": "stderr",
     "output_type": "stream",
     "text": [
      "[mjpeg @ 0x55b147e7ae00] overread 8\n"
     ]
    }
   ],
   "source": [
    "import cv2\n",
    "import os\n",
    "\n",
    "# Set the path to the video file\n",
    "video_path = 'visem/video/48_09.10.20_SSW.avi'\n",
    "\n",
    "# Set the path to the directory where the frames will be saved\n",
    "frame_dir = 'visem/video-48 frames'\n",
    "\n",
    "# Create the frame directory if it doesn't exist\n",
    "os.makedirs(frame_dir, exist_ok=True)\n",
    "\n",
    "# Read the video file\n",
    "cap = cv2.VideoCapture(video_path)\n",
    "\n",
    "# Loop through each frame in the video and save it as an image file\n",
    "frame_num = 0\n",
    "while cap.isOpened():\n",
    "    ret, frame = cap.read()\n",
    "    if not ret:\n",
    "        break\n",
    "    frame_path = os.path.join(frame_dir, f'frame_{frame_num:06d}.jpg')\n",
    "    cv2.imwrite(frame_path, frame)\n",
    "    frame_num += 1\n",
    "\n",
    "# Release the video capture object\n",
    "cap.release()"
   ]
  },
  {
   "cell_type": "code",
   "execution_count": 12,
   "id": "9a50559b-4436-4fd5-9482-f69223a3e957",
   "metadata": {},
   "outputs": [
    {
     "name": "stderr",
     "output_type": "stream",
     "text": [
      "[mjpeg @ 0x55b147e7b6c0] overread 3\n"
     ]
    }
   ],
   "source": [
    "import cv2\n",
    "import os\n",
    "\n",
    "# Set the path to the video file\n",
    "video_path = 'visem/video/49_09.12.02_OW.avi'\n",
    "\n",
    "# Set the path to the directory where the frames will be saved\n",
    "frame_dir = 'visem/video-49 frames'\n",
    "\n",
    "# Create the frame directory if it doesn't exist\n",
    "os.makedirs(frame_dir, exist_ok=True)\n",
    "\n",
    "# Read the video file\n",
    "cap = cv2.VideoCapture(video_path)\n",
    "\n",
    "# Loop through each frame in the video and save it as an image file\n",
    "frame_num = 0\n",
    "while cap.isOpened():\n",
    "    ret, frame = cap.read()\n",
    "    if not ret:\n",
    "        break\n",
    "    frame_path = os.path.join(frame_dir, f'frame_{frame_num:06d}.jpg')\n",
    "    cv2.imwrite(frame_path, frame)\n",
    "    frame_num += 1\n",
    "\n",
    "# Release the video capture object\n",
    "cap.release()"
   ]
  },
  {
   "cell_type": "code",
   "execution_count": 13,
   "id": "049b02a0-ecdc-4a24-b8cb-c00fa5a1750a",
   "metadata": {},
   "outputs": [
    {
     "name": "stderr",
     "output_type": "stream",
     "text": [
      "[mjpeg @ 0x55b147dd4900] overread 8\n"
     ]
    }
   ],
   "source": [
    "import cv2\n",
    "import os\n",
    "\n",
    "# Set the path to the video file\n",
    "video_path = 'visem/video/50_09.11.16_SSW.avi'\n",
    "\n",
    "# Set the path to the directory where the frames will be saved\n",
    "frame_dir = 'visem/video-50 frames'\n",
    "\n",
    "# Create the frame directory if it doesn't exist\n",
    "os.makedirs(frame_dir, exist_ok=True)\n",
    "\n",
    "# Read the video file\n",
    "cap = cv2.VideoCapture(video_path)\n",
    "\n",
    "# Loop through each frame in the video and save it as an image file\n",
    "frame_num = 0\n",
    "while cap.isOpened():\n",
    "    ret, frame = cap.read()\n",
    "    if not ret:\n",
    "        break\n",
    "    frame_path = os.path.join(frame_dir, f'frame_{frame_num:06d}.jpg')\n",
    "    cv2.imwrite(frame_path, frame)\n",
    "    frame_num += 1\n",
    "\n",
    "# Release the video capture object\n",
    "cap.release()"
   ]
  },
  {
   "cell_type": "code",
   "execution_count": 14,
   "id": "367f399e-a03d-4a99-8305-6b9b17a95af7",
   "metadata": {},
   "outputs": [
    {
     "name": "stderr",
     "output_type": "stream",
     "text": [
      "[mjpeg @ 0x55b147dd5040] overread 8\n"
     ]
    }
   ],
   "source": [
    "import cv2\n",
    "import os\n",
    "\n",
    "# Set the path to the video file\n",
    "video_path = 'visem/video/51_09.11.25_SSW.avi'\n",
    "\n",
    "# Set the path to the directory where the frames will be saved\n",
    "frame_dir = 'visem/video-51 frames'\n",
    "\n",
    "# Create the frame directory if it doesn't exist\n",
    "os.makedirs(frame_dir, exist_ok=True)\n",
    "\n",
    "# Read the video file\n",
    "cap = cv2.VideoCapture(video_path)\n",
    "\n",
    "# Loop through each frame in the video and save it as an image file\n",
    "frame_num = 0\n",
    "while cap.isOpened():\n",
    "    ret, frame = cap.read()\n",
    "    if not ret:\n",
    "        break\n",
    "    frame_path = os.path.join(frame_dir, f'frame_{frame_num:06d}.jpg')\n",
    "    cv2.imwrite(frame_path, frame)\n",
    "    frame_num += 1\n",
    "\n",
    "# Release the video capture object\n",
    "cap.release()"
   ]
  },
  {
   "cell_type": "code",
   "execution_count": 15,
   "id": "736a6d2f-22f4-4097-95a7-39c1249262a6",
   "metadata": {},
   "outputs": [
    {
     "name": "stderr",
     "output_type": "stream",
     "text": [
      "[mjpeg @ 0x55b147dd4c40] overread 8\n"
     ]
    }
   ],
   "source": [
    "import cv2\n",
    "import os\n",
    "\n",
    "# Set the path to the video file\n",
    "video_path = 'visem/video/52_09.12.03_drift_SSW.avi'\n",
    "\n",
    "# Set the path to the directory where the frames will be saved\n",
    "frame_dir = 'visem/video-52 frames'\n",
    "\n",
    "# Create the frame directory if it doesn't exist\n",
    "os.makedirs(frame_dir, exist_ok=True)\n",
    "\n",
    "# Read the video file\n",
    "cap = cv2.VideoCapture(video_path)\n",
    "\n",
    "# Loop through each frame in the video and save it as an image file\n",
    "frame_num = 0\n",
    "while cap.isOpened():\n",
    "    ret, frame = cap.read()\n",
    "    if not ret:\n",
    "        break\n",
    "    frame_path = os.path.join(frame_dir, f'frame_{frame_num:06d}.jpg')\n",
    "    cv2.imwrite(frame_path, frame)\n",
    "    frame_num += 1\n",
    "\n",
    "# Release the video capture object\n",
    "cap.release()"
   ]
  },
  {
   "cell_type": "code",
   "execution_count": 16,
   "id": "d76979dd-29f1-435d-8cd8-ced771b6fb5b",
   "metadata": {},
   "outputs": [
    {
     "name": "stderr",
     "output_type": "stream",
     "text": [
      "[mjpeg @ 0x55b147dd4c40] overread 8\n"
     ]
    }
   ],
   "source": [
    "import cv2\n",
    "import os\n",
    "\n",
    "# Set the path to the video file\n",
    "video_path = 'visem/video/53_10.01.07_OW.avi'\n",
    "\n",
    "# Set the path to the directory where the frames will be saved\n",
    "frame_dir = 'visem/video-53 frames'\n",
    "\n",
    "# Create the frame directory if it doesn't exist\n",
    "os.makedirs(frame_dir, exist_ok=True)\n",
    "\n",
    "# Read the video file\n",
    "cap = cv2.VideoCapture(video_path)\n",
    "\n",
    "# Loop through each frame in the video and save it as an image file\n",
    "frame_num = 0\n",
    "while cap.isOpened():\n",
    "    ret, frame = cap.read()\n",
    "    if not ret:\n",
    "        break\n",
    "    frame_path = os.path.join(frame_dir, f'frame_{frame_num:06d}.jpg')\n",
    "    cv2.imwrite(frame_path, frame)\n",
    "    frame_num += 1\n",
    "\n",
    "# Release the video capture object\n",
    "cap.release()"
   ]
  },
  {
   "cell_type": "code",
   "execution_count": 17,
   "id": "eab32852-6e6b-4d76-8c49-f6a470c2938b",
   "metadata": {},
   "outputs": [
    {
     "name": "stderr",
     "output_type": "stream",
     "text": [
      "[mjpeg @ 0x55b147dd52c0] overread 8\n"
     ]
    }
   ],
   "source": [
    "import cv2\n",
    "import os\n",
    "\n",
    "# Set the path to the video file\n",
    "video_path = 'visem/video/54_10.01.14_JMA.avi'\n",
    "\n",
    "# Set the path to the directory where the frames will be saved\n",
    "frame_dir = 'visem/video-54 frames'\n",
    "\n",
    "# Create the frame directory if it doesn't exist\n",
    "os.makedirs(frame_dir, exist_ok=True)\n",
    "\n",
    "# Read the video file\n",
    "cap = cv2.VideoCapture(video_path)\n",
    "\n",
    "# Loop through each frame in the video and save it as an image file\n",
    "frame_num = 0\n",
    "while cap.isOpened():\n",
    "    ret, frame = cap.read()\n",
    "    if not ret:\n",
    "        break\n",
    "    frame_path = os.path.join(frame_dir, f'frame_{frame_num:06d}.jpg')\n",
    "    cv2.imwrite(frame_path, frame)\n",
    "    frame_num += 1\n",
    "\n",
    "# Release the video capture object\n",
    "cap.release()"
   ]
  },
  {
   "cell_type": "code",
   "execution_count": 19,
   "id": "bc91699d-6183-4984-8e22-5a5018c2e0b2",
   "metadata": {},
   "outputs": [
    {
     "name": "stderr",
     "output_type": "stream",
     "text": [
      "[mjpeg @ 0x55b147e6b6c0] overread 8\n"
     ]
    }
   ],
   "source": [
    "import cv2\n",
    "import os\n",
    "\n",
    "# Set the path to the video file\n",
    "video_path = 'visem/video/55_10.12.13_JMA.avi'\n",
    "\n",
    "# Set the path to the directory where the frames will be saved\n",
    "frame_dir = 'visem/video-55 frames'\n",
    "\n",
    "# Create the frame directory if it doesn't exist\n",
    "os.makedirs(frame_dir, exist_ok=True)\n",
    "\n",
    "# Read the video file\n",
    "cap = cv2.VideoCapture(video_path)\n",
    "\n",
    "# Loop through each frame in the video and save it as an image file\n",
    "frame_num = 0\n",
    "while cap.isOpened():\n",
    "    ret, frame = cap.read()\n",
    "    if not ret:\n",
    "        break\n",
    "    frame_path = os.path.join(frame_dir, f'frame_{frame_num:06d}.jpg')\n",
    "    cv2.imwrite(frame_path, frame)\n",
    "    frame_num += 1\n",
    "\n",
    "# Release the video capture object\n",
    "cap.release()"
   ]
  },
  {
   "cell_type": "code",
   "execution_count": 20,
   "id": "3e3af783-7ad9-4296-955c-1fc4a0c1a865",
   "metadata": {},
   "outputs": [
    {
     "name": "stderr",
     "output_type": "stream",
     "text": [
      "[mjpeg @ 0x55b147e80bc0] overread 8\n"
     ]
    }
   ],
   "source": [
    "import cv2\n",
    "import os\n",
    "\n",
    "# Set the path to the video file\n",
    "video_path = 'visem/video/56_10.12.16_HH.avi'\n",
    "\n",
    "# Set the path to the directory where the frames will be saved\n",
    "frame_dir = 'visem/video-56 frames'\n",
    "\n",
    "# Create the frame directory if it doesn't exist\n",
    "os.makedirs(frame_dir, exist_ok=True)\n",
    "\n",
    "# Read the video file\n",
    "cap = cv2.VideoCapture(video_path)\n",
    "\n",
    "# Loop through each frame in the video and save it as an image file\n",
    "frame_num = 0\n",
    "while cap.isOpened():\n",
    "    ret, frame = cap.read()\n",
    "    if not ret:\n",
    "        break\n",
    "    frame_path = os.path.join(frame_dir, f'frame_{frame_num:06d}.jpg')\n",
    "    cv2.imwrite(frame_path, frame)\n",
    "    frame_num += 1\n",
    "\n",
    "# Release the video capture object\n",
    "cap.release()"
   ]
  },
  {
   "cell_type": "code",
   "execution_count": 21,
   "id": "58bcba0b-045c-4d24-a3e0-031784dcc779",
   "metadata": {},
   "outputs": [
    {
     "name": "stderr",
     "output_type": "stream",
     "text": [
      "[mjpeg @ 0x55b147e6f1c0] overread 8\n"
     ]
    }
   ],
   "source": [
    "import cv2\n",
    "import os\n",
    "\n",
    "# Set the path to the video file\n",
    "video_path = 'visem/video/57_10.12.15_JMA.avi'\n",
    "\n",
    "# Set the path to the directory where the frames will be saved\n",
    "frame_dir = 'visem/video-57 frames'\n",
    "\n",
    "# Create the frame directory if it doesn't exist\n",
    "os.makedirs(frame_dir, exist_ok=True)\n",
    "\n",
    "# Read the video file\n",
    "cap = cv2.VideoCapture(video_path)\n",
    "\n",
    "# Loop through each frame in the video and save it as an image file\n",
    "frame_num = 0\n",
    "while cap.isOpened():\n",
    "    ret, frame = cap.read()\n",
    "    if not ret:\n",
    "        break\n",
    "    frame_path = os.path.join(frame_dir, f'frame_{frame_num:06d}.jpg')\n",
    "    cv2.imwrite(frame_path, frame)\n",
    "    frame_num += 1\n",
    "\n",
    "# Release the video capture object\n",
    "cap.release()"
   ]
  },
  {
   "cell_type": "code",
   "execution_count": 22,
   "id": "d34c9ef5-d99c-4680-bb8c-5a48082c6129",
   "metadata": {},
   "outputs": [
    {
     "name": "stderr",
     "output_type": "stream",
     "text": [
      "[mjpeg @ 0x55b147e6f640] overread 8\n"
     ]
    }
   ],
   "source": [
    "import cv2\n",
    "import os\n",
    "\n",
    "# Set the path to the video file\n",
    "video_path = 'visem/video/58_11.01.27_JMA.avi'\n",
    "\n",
    "# Set the path to the directory where the frames will be saved\n",
    "frame_dir = 'visem/video-58 frames'\n",
    "\n",
    "# Create the frame directory if it doesn't exist\n",
    "os.makedirs(frame_dir, exist_ok=True)\n",
    "\n",
    "# Read the video file\n",
    "cap = cv2.VideoCapture(video_path)\n",
    "\n",
    "# Loop through each frame in the video and save it as an image file\n",
    "frame_num = 0\n",
    "while cap.isOpened():\n",
    "    ret, frame = cap.read()\n",
    "    if not ret:\n",
    "        break\n",
    "    frame_path = os.path.join(frame_dir, f'frame_{frame_num:06d}.jpg')\n",
    "    cv2.imwrite(frame_path, frame)\n",
    "    frame_num += 1\n",
    "\n",
    "# Release the video capture object\n",
    "cap.release()"
   ]
  },
  {
   "cell_type": "code",
   "execution_count": 23,
   "id": "52c92566-e16a-4080-b37b-03bf55d58587",
   "metadata": {},
   "outputs": [
    {
     "name": "stderr",
     "output_type": "stream",
     "text": [
      "[mjpeg @ 0x55b147e6fcc0] overread 7\n"
     ]
    }
   ],
   "source": [
    "import cv2\n",
    "import os\n",
    "\n",
    "# Set the path to the video file\n",
    "video_path = 'visem/video/59_11.02.03_HH.avi'\n",
    "\n",
    "# Set the path to the directory where the frames will be saved\n",
    "frame_dir = 'visem/video-59 frames'\n",
    "\n",
    "# Create the frame directory if it doesn't exist\n",
    "os.makedirs(frame_dir, exist_ok=True)\n",
    "\n",
    "# Read the video file\n",
    "cap = cv2.VideoCapture(video_path)\n",
    "\n",
    "# Loop through each frame in the video and save it as an image file\n",
    "frame_num = 0\n",
    "while cap.isOpened():\n",
    "    ret, frame = cap.read()\n",
    "    if not ret:\n",
    "        break\n",
    "    frame_path = os.path.join(frame_dir, f'frame_{frame_num:06d}.jpg')\n",
    "    cv2.imwrite(frame_path, frame)\n",
    "    frame_num += 1\n",
    "\n",
    "# Release the video capture object\n",
    "cap.release()"
   ]
  },
  {
   "cell_type": "code",
   "execution_count": 24,
   "id": "ab8f0048-9634-43a4-855f-daf91bbaad57",
   "metadata": {},
   "outputs": [
    {
     "name": "stderr",
     "output_type": "stream",
     "text": [
      "[mjpeg @ 0x55b147e6a200] overread 8\n"
     ]
    }
   ],
   "source": [
    "import cv2\n",
    "import os\n",
    "\n",
    "# Set the path to the video file\n",
    "video_path = 'visem/video/60_11.02.04_JMA.avi'\n",
    "\n",
    "# Set the path to the directory where the frames will be saved\n",
    "frame_dir = 'visem/video-60 frames'\n",
    "\n",
    "# Create the frame directory if it doesn't exist\n",
    "os.makedirs(frame_dir, exist_ok=True)\n",
    "\n",
    "# Read the video file\n",
    "cap = cv2.VideoCapture(video_path)\n",
    "\n",
    "# Loop through each frame in the video and save it as an image file\n",
    "frame_num = 0\n",
    "while cap.isOpened():\n",
    "    ret, frame = cap.read()\n",
    "    if not ret:\n",
    "        break\n",
    "    frame_path = os.path.join(frame_dir, f'frame_{frame_num:06d}.jpg')\n",
    "    cv2.imwrite(frame_path, frame)\n",
    "    frame_num += 1\n",
    "\n",
    "# Release the video capture object\n",
    "cap.release()"
   ]
  },
  {
   "cell_type": "code",
   "execution_count": 25,
   "id": "12907e30-fee7-406c-8322-69d11021c1a8",
   "metadata": {},
   "outputs": [
    {
     "name": "stderr",
     "output_type": "stream",
     "text": [
      "[mjpeg @ 0x55b147e6f480] overread 8\n"
     ]
    }
   ],
   "source": [
    "import cv2\n",
    "import os\n",
    "\n",
    "# Set the path to the video file\n",
    "video_path = 'visem/video/61_11.02.04_JMA.avi'\n",
    "\n",
    "# Set the path to the directory where the frames will be saved\n",
    "frame_dir = 'visem/video-61 frames'\n",
    "\n",
    "# Create the frame directory if it doesn't exist\n",
    "os.makedirs(frame_dir, exist_ok=True)\n",
    "\n",
    "# Read the video file\n",
    "cap = cv2.VideoCapture(video_path)\n",
    "\n",
    "# Loop through each frame in the video and save it as an image file\n",
    "frame_num = 0\n",
    "while cap.isOpened():\n",
    "    ret, frame = cap.read()\n",
    "    if not ret:\n",
    "        break\n",
    "    frame_path = os.path.join(frame_dir, f'frame_{frame_num:06d}.jpg')\n",
    "    cv2.imwrite(frame_path, frame)\n",
    "    frame_num += 1\n",
    "\n",
    "# Release the video capture object\n",
    "cap.release()"
   ]
  },
  {
   "cell_type": "code",
   "execution_count": 26,
   "id": "ce48dd85-1f1b-4dd5-83dd-fd0b97ea38f7",
   "metadata": {},
   "outputs": [
    {
     "name": "stderr",
     "output_type": "stream",
     "text": [
      "[mjpeg @ 0x55b147e83740] overread 8\n"
     ]
    }
   ],
   "source": [
    "import cv2\n",
    "import os\n",
    "\n",
    "# Set the path to the video file\n",
    "video_path = 'visem/video/62_11.02.09_JMA.avi'\n",
    "\n",
    "# Set the path to the directory where the frames will be saved\n",
    "frame_dir = 'visem/video-62 frames'\n",
    "\n",
    "# Create the frame directory if it doesn't exist\n",
    "os.makedirs(frame_dir, exist_ok=True)\n",
    "\n",
    "# Read the video file\n",
    "cap = cv2.VideoCapture(video_path)\n",
    "\n",
    "# Loop through each frame in the video and save it as an image file\n",
    "frame_num = 0\n",
    "while cap.isOpened():\n",
    "    ret, frame = cap.read()\n",
    "    if not ret:\n",
    "        break\n",
    "    frame_path = os.path.join(frame_dir, f'frame_{frame_num:06d}.jpg')\n",
    "    cv2.imwrite(frame_path, frame)\n",
    "    frame_num += 1\n",
    "\n",
    "# Release the video capture object\n",
    "cap.release()"
   ]
  },
  {
   "cell_type": "code",
   "execution_count": 27,
   "id": "b7efd931-5cec-4a69-85bf-6509fce4c3c5",
   "metadata": {},
   "outputs": [
    {
     "name": "stderr",
     "output_type": "stream",
     "text": [
      "[mjpeg @ 0x55b147e70300] overread 8\n"
     ]
    }
   ],
   "source": [
    "import cv2\n",
    "import os\n",
    "\n",
    "# Set the path to the video file\n",
    "video_path = 'visem/video/63_11.02.10_JMA.avi'\n",
    "\n",
    "# Set the path to the directory where the frames will be saved\n",
    "frame_dir = 'visem/video-63 frames'\n",
    "\n",
    "# Create the frame directory if it doesn't exist\n",
    "os.makedirs(frame_dir, exist_ok=True)\n",
    "\n",
    "# Read the video file\n",
    "cap = cv2.VideoCapture(video_path)\n",
    "\n",
    "# Loop through each frame in the video and save it as an image file\n",
    "frame_num = 0\n",
    "while cap.isOpened():\n",
    "    ret, frame = cap.read()\n",
    "    if not ret:\n",
    "        break\n",
    "    frame_path = os.path.join(frame_dir, f'frame_{frame_num:06d}.jpg')\n",
    "    cv2.imwrite(frame_path, frame)\n",
    "    frame_num += 1\n",
    "\n",
    "# Release the video capture object\n",
    "cap.release()"
   ]
  },
  {
   "cell_type": "code",
   "execution_count": 28,
   "id": "2b421d4f-b5de-4eed-99fb-b25b8bfbe193",
   "metadata": {},
   "outputs": [],
   "source": [
    "import cv2\n",
    "import os\n",
    "\n",
    "# Set the path to the video file\n",
    "video_path = 'visem/video/64_11.02.10_JMA.avi'\n",
    "\n",
    "# Set the path to the directory where the frames will be saved\n",
    "frame_dir = 'visem/video-64 frames'\n",
    "\n",
    "# Create the frame directory if it doesn't exist\n",
    "os.makedirs(frame_dir, exist_ok=True)\n",
    "\n",
    "# Read the video file\n",
    "cap = cv2.VideoCapture(video_path)\n",
    "\n",
    "# Loop through each frame in the video and save it as an image file\n",
    "frame_num = 0\n",
    "while cap.isOpened():\n",
    "    ret, frame = cap.read()\n",
    "    if not ret:\n",
    "        break\n",
    "    frame_path = os.path.join(frame_dir, f'frame_{frame_num:06d}.jpg')\n",
    "    cv2.imwrite(frame_path, frame)\n",
    "    frame_num += 1\n",
    "\n",
    "# Release the video capture object\n",
    "cap.release()"
   ]
  },
  {
   "cell_type": "code",
   "execution_count": 29,
   "id": "f37f9acd-720a-46fc-97ed-ce5df48fa255",
   "metadata": {},
   "outputs": [
    {
     "name": "stderr",
     "output_type": "stream",
     "text": [
      "[mjpeg @ 0x55b147de8580] overread 8\n"
     ]
    }
   ],
   "source": [
    "import cv2\n",
    "import os\n",
    "\n",
    "# Set the path to the video file\n",
    "video_path = 'visem/video/65_11.02.15_HH.avi'\n",
    "\n",
    "# Set the path to the directory where the frames will be saved\n",
    "frame_dir = 'visem/video-65 frames'\n",
    "\n",
    "# Create the frame directory if it doesn't exist\n",
    "os.makedirs(frame_dir, exist_ok=True)\n",
    "\n",
    "# Read the video file\n",
    "cap = cv2.VideoCapture(video_path)\n",
    "\n",
    "# Loop through each frame in the video and save it as an image file\n",
    "frame_num = 0\n",
    "while cap.isOpened():\n",
    "    ret, frame = cap.read()\n",
    "    if not ret:\n",
    "        break\n",
    "    frame_path = os.path.join(frame_dir, f'frame_{frame_num:06d}.jpg')\n",
    "    cv2.imwrite(frame_path, frame)\n",
    "    frame_num += 1\n",
    "\n",
    "# Release the video capture object\n",
    "cap.release()"
   ]
  },
  {
   "cell_type": "code",
   "execution_count": 30,
   "id": "f7d567a2-667b-4d54-a237-89b20aaeb498",
   "metadata": {},
   "outputs": [
    {
     "name": "stderr",
     "output_type": "stream",
     "text": [
      "[mjpeg @ 0x55b147de8300] overread 8\n"
     ]
    }
   ],
   "source": [
    "import cv2\n",
    "import os\n",
    "\n",
    "# Set the path to the video file\n",
    "video_path = 'visem/video/66_11.02.16_HH.avi'\n",
    "\n",
    "# Set the path to the directory where the frames will be saved\n",
    "frame_dir = 'visem/video-66 frames'\n",
    "\n",
    "# Create the frame directory if it doesn't exist\n",
    "os.makedirs(frame_dir, exist_ok=True)\n",
    "\n",
    "# Read the video file\n",
    "cap = cv2.VideoCapture(video_path)\n",
    "\n",
    "# Loop through each frame in the video and save it as an image file\n",
    "frame_num = 0\n",
    "while cap.isOpened():\n",
    "    ret, frame = cap.read()\n",
    "    if not ret:\n",
    "        break\n",
    "    frame_path = os.path.join(frame_dir, f'frame_{frame_num:06d}.jpg')\n",
    "    cv2.imwrite(frame_path, frame)\n",
    "    frame_num += 1\n",
    "\n",
    "# Release the video capture object\n",
    "cap.release()"
   ]
  },
  {
   "cell_type": "code",
   "execution_count": 31,
   "id": "6e25ac9d-2438-44da-b46b-e74091400ceb",
   "metadata": {},
   "outputs": [
    {
     "name": "stderr",
     "output_type": "stream",
     "text": [
      "[mjpeg @ 0x55b147de8300] overread 8\n"
     ]
    }
   ],
   "source": [
    "import cv2\n",
    "import os\n",
    "\n",
    "# Set the path to the video file\n",
    "video_path = 'visem/video/67_11.02.16_JMA.avi'\n",
    "\n",
    "# Set the path to the directory where the frames will be saved\n",
    "frame_dir = 'visem/video-67 frames'\n",
    "\n",
    "# Create the frame directory if it doesn't exist\n",
    "os.makedirs(frame_dir, exist_ok=True)\n",
    "\n",
    "# Read the video file\n",
    "cap = cv2.VideoCapture(video_path)\n",
    "\n",
    "# Loop through each frame in the video and save it as an image file\n",
    "frame_num = 0\n",
    "while cap.isOpened():\n",
    "    ret, frame = cap.read()\n",
    "    if not ret:\n",
    "        break\n",
    "    frame_path = os.path.join(frame_dir, f'frame_{frame_num:06d}.jpg')\n",
    "    cv2.imwrite(frame_path, frame)\n",
    "    frame_num += 1\n",
    "\n",
    "# Release the video capture object\n",
    "cap.release()"
   ]
  },
  {
   "cell_type": "code",
   "execution_count": 32,
   "id": "e7bd6c65-78f7-452e-97a0-f2226d956735",
   "metadata": {},
   "outputs": [
    {
     "name": "stderr",
     "output_type": "stream",
     "text": [
      "[mjpeg @ 0x55b147e74280] overread 3\n"
     ]
    }
   ],
   "source": [
    "import cv2\n",
    "import os\n",
    "\n",
    "# Set the path to the video file\n",
    "video_path = 'visem/video/68_11.02.17_HH.avi'\n",
    "\n",
    "# Set the path to the directory where the frames will be saved\n",
    "frame_dir = 'visem/video-68 frames'\n",
    "\n",
    "# Create the frame directory if it doesn't exist\n",
    "os.makedirs(frame_dir, exist_ok=True)\n",
    "\n",
    "# Read the video file\n",
    "cap = cv2.VideoCapture(video_path)\n",
    "\n",
    "# Loop through each frame in the video and save it as an image file\n",
    "frame_num = 0\n",
    "while cap.isOpened():\n",
    "    ret, frame = cap.read()\n",
    "    if not ret:\n",
    "        break\n",
    "    frame_path = os.path.join(frame_dir, f'frame_{frame_num:06d}.jpg')\n",
    "    cv2.imwrite(frame_path, frame)\n",
    "    frame_num += 1\n",
    "\n",
    "# Release the video capture object\n",
    "cap.release()"
   ]
  },
  {
   "cell_type": "code",
   "execution_count": 33,
   "id": "a6943353-af3d-4f0e-9930-aa25c5a7f4b9",
   "metadata": {},
   "outputs": [
    {
     "name": "stderr",
     "output_type": "stream",
     "text": [
      "[mjpeg @ 0x55b147e74640] overread 8\n"
     ]
    }
   ],
   "source": [
    "import cv2\n",
    "import os\n",
    "\n",
    "# Set the path to the video file\n",
    "video_path = 'visem/video/69_11.02.22_HH.avi'\n",
    "\n",
    "# Set the path to the directory where the frames will be saved\n",
    "frame_dir = 'visem/video-69 frames'\n",
    "\n",
    "# Create the frame directory if it doesn't exist\n",
    "os.makedirs(frame_dir, exist_ok=True)\n",
    "\n",
    "# Read the video file\n",
    "cap = cv2.VideoCapture(video_path)\n",
    "\n",
    "# Loop through each frame in the video and save it as an image file\n",
    "frame_num = 0\n",
    "while cap.isOpened():\n",
    "    ret, frame = cap.read()\n",
    "    if not ret:\n",
    "        break\n",
    "    frame_path = os.path.join(frame_dir, f'frame_{frame_num:06d}.jpg')\n",
    "    cv2.imwrite(frame_path, frame)\n",
    "    frame_num += 1\n",
    "\n",
    "# Release the video capture object\n",
    "cap.release()"
   ]
  },
  {
   "cell_type": "code",
   "execution_count": 35,
   "id": "1d65a5ee-fdb5-41c0-9a55-182fcb4344b9",
   "metadata": {},
   "outputs": [
    {
     "name": "stderr",
     "output_type": "stream",
     "text": [
      "[mjpeg @ 0x55b147df2480] overread 6\n"
     ]
    }
   ],
   "source": [
    "import cv2\n",
    "import os\n",
    "\n",
    "# Set the path to the video file\n",
    "video_path = 'visem/video/70_11.02.23_JMA.avi'\n",
    "\n",
    "# Set the path to the directory where the frames will be saved\n",
    "frame_dir = 'visem/video-70 frames'\n",
    "\n",
    "# Create the frame directory if it doesn't exist\n",
    "os.makedirs(frame_dir, exist_ok=True)\n",
    "\n",
    "# Read the video file\n",
    "cap = cv2.VideoCapture(video_path)\n",
    "\n",
    "# Loop through each frame in the video and save it as an image file\n",
    "frame_num = 0\n",
    "while cap.isOpened():\n",
    "    ret, frame = cap.read()\n",
    "    if not ret:\n",
    "        break\n",
    "    frame_path = os.path.join(frame_dir, f'frame_{frame_num:06d}.jpg')\n",
    "    cv2.imwrite(frame_path, frame)\n",
    "    frame_num += 1\n",
    "\n",
    "# Release the video capture object\n",
    "cap.release()"
   ]
  },
  {
   "cell_type": "code",
   "execution_count": 36,
   "id": "06e09929-73eb-449b-abc3-df47d2d12122",
   "metadata": {},
   "outputs": [
    {
     "name": "stderr",
     "output_type": "stream",
     "text": [
      "[mjpeg @ 0x55b147e74640] overread 8\n"
     ]
    }
   ],
   "source": [
    "import cv2\n",
    "import os\n",
    "\n",
    "# Set the path to the video file\n",
    "video_path = 'visem/video/71_11.02.24_HH.avi'\n",
    "\n",
    "# Set the path to the directory where the frames will be saved\n",
    "frame_dir = 'visem/video-71 frames'\n",
    "\n",
    "# Create the frame directory if it doesn't exist\n",
    "os.makedirs(frame_dir, exist_ok=True)\n",
    "\n",
    "# Read the video file\n",
    "cap = cv2.VideoCapture(video_path)\n",
    "\n",
    "# Loop through each frame in the video and save it as an image file\n",
    "frame_num = 0\n",
    "while cap.isOpened():\n",
    "    ret, frame = cap.read()\n",
    "    if not ret:\n",
    "        break\n",
    "    frame_path = os.path.join(frame_dir, f'frame_{frame_num:06d}.jpg')\n",
    "    cv2.imwrite(frame_path, frame)\n",
    "    frame_num += 1\n",
    "\n",
    "# Release the video capture object\n",
    "cap.release()"
   ]
  },
  {
   "cell_type": "code",
   "execution_count": 37,
   "id": "589dae3b-557c-4b98-9cef-c0bfd507d251",
   "metadata": {},
   "outputs": [
    {
     "name": "stderr",
     "output_type": "stream",
     "text": [
      "[mjpeg @ 0x55b147e74980] overread 8\n"
     ]
    }
   ],
   "source": [
    "import cv2\n",
    "import os\n",
    "\n",
    "# Set the path to the video file\n",
    "video_path = 'visem/video/72_11.02.24_JMA.avi'\n",
    "\n",
    "# Set the path to the directory where the frames will be saved\n",
    "frame_dir = 'visem/video-72 frames'\n",
    "\n",
    "# Create the frame directory if it doesn't exist\n",
    "os.makedirs(frame_dir, exist_ok=True)\n",
    "\n",
    "# Read the video file\n",
    "cap = cv2.VideoCapture(video_path)\n",
    "\n",
    "# Loop through each frame in the video and save it as an image file\n",
    "frame_num = 0\n",
    "while cap.isOpened():\n",
    "    ret, frame = cap.read()\n",
    "    if not ret:\n",
    "        break\n",
    "    frame_path = os.path.join(frame_dir, f'frame_{frame_num:06d}.jpg')\n",
    "    cv2.imwrite(frame_path, frame)\n",
    "    frame_num += 1\n",
    "\n",
    "# Release the video capture object\n",
    "cap.release()"
   ]
  },
  {
   "cell_type": "code",
   "execution_count": 38,
   "id": "fc92df42-d3c0-4fd0-b3cd-c2f727ccc171",
   "metadata": {},
   "outputs": [
    {
     "name": "stderr",
     "output_type": "stream",
     "text": [
      "[mjpeg @ 0x55b147e83740] overread 8\n"
     ]
    }
   ],
   "source": [
    "import cv2\n",
    "import os\n",
    "\n",
    "# Set the path to the video file\n",
    "video_path = 'visem/video/73_11.02.25_HH.avi'\n",
    "\n",
    "# Set the path to the directory where the frames will be saved\n",
    "frame_dir = 'visem/video-73 frames'\n",
    "\n",
    "# Create the frame directory if it doesn't exist\n",
    "os.makedirs(frame_dir, exist_ok=True)\n",
    "\n",
    "# Read the video file\n",
    "cap = cv2.VideoCapture(video_path)\n",
    "\n",
    "# Loop through each frame in the video and save it as an image file\n",
    "frame_num = 0\n",
    "while cap.isOpened():\n",
    "    ret, frame = cap.read()\n",
    "    if not ret:\n",
    "        break\n",
    "    frame_path = os.path.join(frame_dir, f'frame_{frame_num:06d}.jpg')\n",
    "    cv2.imwrite(frame_path, frame)\n",
    "    frame_num += 1\n",
    "\n",
    "# Release the video capture object\n",
    "cap.release()"
   ]
  },
  {
   "cell_type": "code",
   "execution_count": 39,
   "id": "bf5ea399-f50f-47f2-91c6-5dccc9a6cc1c",
   "metadata": {},
   "outputs": [
    {
     "name": "stderr",
     "output_type": "stream",
     "text": [
      "[mjpeg @ 0x55b147e832c0] overread 8\n"
     ]
    }
   ],
   "source": [
    "import cv2\n",
    "import os\n",
    "\n",
    "# Set the path to the video file\n",
    "video_path = 'visem/video/74_11.02.25_JMA.avi'\n",
    "\n",
    "# Set the path to the directory where the frames will be saved\n",
    "frame_dir = 'visem/video-74 frames'\n",
    "\n",
    "# Create the frame directory if it doesn't exist\n",
    "os.makedirs(frame_dir, exist_ok=True)\n",
    "\n",
    "# Read the video file\n",
    "cap = cv2.VideoCapture(video_path)\n",
    "\n",
    "# Loop through each frame in the video and save it as an image file\n",
    "frame_num = 0\n",
    "while cap.isOpened():\n",
    "    ret, frame = cap.read()\n",
    "    if not ret:\n",
    "        break\n",
    "    frame_path = os.path.join(frame_dir, f'frame_{frame_num:06d}.jpg')\n",
    "    cv2.imwrite(frame_path, frame)\n",
    "    frame_num += 1\n",
    "\n",
    "# Release the video capture object\n",
    "cap.release()"
   ]
  },
  {
   "cell_type": "code",
   "execution_count": 40,
   "id": "2e2f8264-41e2-417d-8443-5ec8bdde4ce4",
   "metadata": {},
   "outputs": [
    {
     "name": "stderr",
     "output_type": "stream",
     "text": [
      "[mjpeg @ 0x55b147e83b00] overread 1\n"
     ]
    }
   ],
   "source": [
    "import cv2\n",
    "import os\n",
    "\n",
    "# Set the path to the video file\n",
    "video_path = 'visem/video/75_11.03.09_JMA.avi'\n",
    "\n",
    "# Set the path to the directory where the frames will be saved\n",
    "frame_dir = 'visem/video-75 frames'\n",
    "\n",
    "# Create the frame directory if it doesn't exist\n",
    "os.makedirs(frame_dir, exist_ok=True)\n",
    "\n",
    "# Read the video file\n",
    "cap = cv2.VideoCapture(video_path)\n",
    "\n",
    "# Loop through each frame in the video and save it as an image file\n",
    "frame_num = 0\n",
    "while cap.isOpened():\n",
    "    ret, frame = cap.read()\n",
    "    if not ret:\n",
    "        break\n",
    "    frame_path = os.path.join(frame_dir, f'frame_{frame_num:06d}.jpg')\n",
    "    cv2.imwrite(frame_path, frame)\n",
    "    frame_num += 1\n",
    "\n",
    "# Release the video capture object\n",
    "cap.release()"
   ]
  },
  {
   "cell_type": "code",
   "execution_count": 41,
   "id": "796788be-3e5a-4a1e-b30b-bf7c7e2aa603",
   "metadata": {},
   "outputs": [
    {
     "name": "stderr",
     "output_type": "stream",
     "text": [
      "[mjpeg @ 0x55b147e83680] overread 3\n"
     ]
    }
   ],
   "source": [
    "import cv2\n",
    "import os\n",
    "\n",
    "# Set the path to the video file\n",
    "video_path = 'visem/video/76_11.03.09_JMA.avi'\n",
    "\n",
    "# Set the path to the directory where the frames will be saved\n",
    "frame_dir = 'visem/video-76 frames'\n",
    "\n",
    "# Create the frame directory if it doesn't exist\n",
    "os.makedirs(frame_dir, exist_ok=True)\n",
    "\n",
    "# Read the video file\n",
    "cap = cv2.VideoCapture(video_path)\n",
    "\n",
    "# Loop through each frame in the video and save it as an image file\n",
    "frame_num = 0\n",
    "while cap.isOpened():\n",
    "    ret, frame = cap.read()\n",
    "    if not ret:\n",
    "        break\n",
    "    frame_path = os.path.join(frame_dir, f'frame_{frame_num:06d}.jpg')\n",
    "    cv2.imwrite(frame_path, frame)\n",
    "    frame_num += 1\n",
    "\n",
    "# Release the video capture object\n",
    "cap.release()"
   ]
  },
  {
   "cell_type": "code",
   "execution_count": 42,
   "id": "57b8bafb-4356-4ff6-ab4e-0f483a521513",
   "metadata": {},
   "outputs": [
    {
     "name": "stderr",
     "output_type": "stream",
     "text": [
      "[mjpeg @ 0x55b147de5e80] overread 8\n"
     ]
    }
   ],
   "source": [
    "import cv2\n",
    "import os\n",
    "\n",
    "# Set the path to the video file\n",
    "video_path = 'visem/video/77_11.03.11_JMA.avi'\n",
    "\n",
    "# Set the path to the directory where the frames will be saved\n",
    "frame_dir = 'visem/video-77 frames'\n",
    "\n",
    "# Create the frame directory if it doesn't exist\n",
    "os.makedirs(frame_dir, exist_ok=True)\n",
    "\n",
    "# Read the video file\n",
    "cap = cv2.VideoCapture(video_path)\n",
    "\n",
    "# Loop through each frame in the video and save it as an image file\n",
    "frame_num = 0\n",
    "while cap.isOpened():\n",
    "    ret, frame = cap.read()\n",
    "    if not ret:\n",
    "        break\n",
    "    frame_path = os.path.join(frame_dir, f'frame_{frame_num:06d}.jpg')\n",
    "    cv2.imwrite(frame_path, frame)\n",
    "    frame_num += 1\n",
    "\n",
    "# Release the video capture object\n",
    "cap.release()"
   ]
  },
  {
   "cell_type": "code",
   "execution_count": 43,
   "id": "924a3727-5c12-49df-b1c4-cd785b408265",
   "metadata": {},
   "outputs": [
    {
     "name": "stderr",
     "output_type": "stream",
     "text": [
      "[mjpeg @ 0x55b147de5a00] overread 8\n"
     ]
    }
   ],
   "source": [
    "import cv2\n",
    "import os\n",
    "\n",
    "# Set the path to the video file\n",
    "video_path = 'visem/video/78_11.03.15_JMA.avi'\n",
    "\n",
    "# Set the path to the directory where the frames will be saved\n",
    "frame_dir = 'visem/video-78 frames'\n",
    "\n",
    "# Create the frame directory if it doesn't exist\n",
    "os.makedirs(frame_dir, exist_ok=True)\n",
    "\n",
    "# Read the video file\n",
    "cap = cv2.VideoCapture(video_path)\n",
    "\n",
    "# Loop through each frame in the video and save it as an image file\n",
    "frame_num = 0\n",
    "while cap.isOpened():\n",
    "    ret, frame = cap.read()\n",
    "    if not ret:\n",
    "        break\n",
    "    frame_path = os.path.join(frame_dir, f'frame_{frame_num:06d}.jpg')\n",
    "    cv2.imwrite(frame_path, frame)\n",
    "    frame_num += 1\n",
    "\n",
    "# Release the video capture object\n",
    "cap.release()"
   ]
  },
  {
   "cell_type": "code",
   "execution_count": 44,
   "id": "a8ca193a-f600-4a11-a063-1cfb8a283377",
   "metadata": {},
   "outputs": [
    {
     "name": "stderr",
     "output_type": "stream",
     "text": [
      "[mjpeg @ 0x55b147e77040] overread 8\n"
     ]
    }
   ],
   "source": [
    "import cv2\n",
    "import os\n",
    "\n",
    "# Set the path to the video file\n",
    "video_path = 'visem/video/79_11.03.17_JMA.avi'\n",
    "\n",
    "# Set the path to the directory where the frames will be saved\n",
    "frame_dir = 'visem/video-79 frames'\n",
    "\n",
    "# Create the frame directory if it doesn't exist\n",
    "os.makedirs(frame_dir, exist_ok=True)\n",
    "\n",
    "# Read the video file\n",
    "cap = cv2.VideoCapture(video_path)\n",
    "\n",
    "# Loop through each frame in the video and save it as an image file\n",
    "frame_num = 0\n",
    "while cap.isOpened():\n",
    "    ret, frame = cap.read()\n",
    "    if not ret:\n",
    "        break\n",
    "    frame_path = os.path.join(frame_dir, f'frame_{frame_num:06d}.jpg')\n",
    "    cv2.imwrite(frame_path, frame)\n",
    "    frame_num += 1\n",
    "\n",
    "# Release the video capture object\n",
    "cap.release()"
   ]
  },
  {
   "cell_type": "code",
   "execution_count": 45,
   "id": "82edd159-8eeb-4e7c-abf1-7a49722915f5",
   "metadata": {},
   "outputs": [
    {
     "name": "stderr",
     "output_type": "stream",
     "text": [
      "[mjpeg @ 0x55b147e77bc0] overread 8\n"
     ]
    }
   ],
   "source": [
    "import cv2\n",
    "import os\n",
    "\n",
    "# Set the path to the video file\n",
    "video_path = 'visem/video/80_11.05.04_JMA.avi'\n",
    "\n",
    "# Set the path to the directory where the frames will be saved\n",
    "frame_dir = 'visem/video-80 frames'\n",
    "\n",
    "# Create the frame directory if it doesn't exist\n",
    "os.makedirs(frame_dir, exist_ok=True)\n",
    "\n",
    "# Read the video file\n",
    "cap = cv2.VideoCapture(video_path)\n",
    "\n",
    "# Loop through each frame in the video and save it as an image file\n",
    "frame_num = 0\n",
    "while cap.isOpened():\n",
    "    ret, frame = cap.read()\n",
    "    if not ret:\n",
    "        break\n",
    "    frame_path = os.path.join(frame_dir, f'frame_{frame_num:06d}.jpg')\n",
    "    cv2.imwrite(frame_path, frame)\n",
    "    frame_num += 1\n",
    "\n",
    "# Release the video capture object\n",
    "cap.release()"
   ]
  },
  {
   "cell_type": "code",
   "execution_count": 46,
   "id": "9ff6f1dc-37f3-4060-b8b0-433caf28895e",
   "metadata": {},
   "outputs": [
    {
     "name": "stderr",
     "output_type": "stream",
     "text": [
      "[mjpeg @ 0x55b147e77bc0] overread 8\n"
     ]
    }
   ],
   "source": [
    "import cv2\n",
    "import os\n",
    "\n",
    "# Set the path to the video file\n",
    "video_path = 'visem/video/81_11.05.26_HH.avi'\n",
    "\n",
    "# Set the path to the directory where the frames will be saved\n",
    "frame_dir = 'visem/video-81 frames'\n",
    "\n",
    "# Create the frame directory if it doesn't exist\n",
    "os.makedirs(frame_dir, exist_ok=True)\n",
    "\n",
    "# Read the video file\n",
    "cap = cv2.VideoCapture(video_path)\n",
    "\n",
    "# Loop through each frame in the video and save it as an image file\n",
    "frame_num = 0\n",
    "while cap.isOpened():\n",
    "    ret, frame = cap.read()\n",
    "    if not ret:\n",
    "        break\n",
    "    frame_path = os.path.join(frame_dir, f'frame_{frame_num:06d}.jpg')\n",
    "    cv2.imwrite(frame_path, frame)\n",
    "    frame_num += 1\n",
    "\n",
    "# Release the video capture object\n",
    "cap.release()"
   ]
  },
  {
   "cell_type": "code",
   "execution_count": 47,
   "id": "c0f6f5da-1033-4597-8be0-89b63f5a3e3e",
   "metadata": {},
   "outputs": [
    {
     "name": "stderr",
     "output_type": "stream",
     "text": [
      "[mjpeg @ 0x55b147e784c0] overread 8\n"
     ]
    }
   ],
   "source": [
    "import cv2\n",
    "import os\n",
    "\n",
    "# Set the path to the video file\n",
    "video_path = 'visem/video/82_11.06.23_JMA.avi'\n",
    "\n",
    "# Set the path to the directory where the frames will be saved\n",
    "frame_dir = 'visem/video-82 frames'\n",
    "\n",
    "# Create the frame directory if it doesn't exist\n",
    "os.makedirs(frame_dir, exist_ok=True)\n",
    "\n",
    "# Read the video file\n",
    "cap = cv2.VideoCapture(video_path)\n",
    "\n",
    "# Loop through each frame in the video and save it as an image file\n",
    "frame_num = 0\n",
    "while cap.isOpened():\n",
    "    ret, frame = cap.read()\n",
    "    if not ret:\n",
    "        break\n",
    "    frame_path = os.path.join(frame_dir, f'frame_{frame_num:06d}.jpg')\n",
    "    cv2.imwrite(frame_path, frame)\n",
    "    frame_num += 1\n",
    "\n",
    "# Release the video capture object\n",
    "cap.release()"
   ]
  },
  {
   "cell_type": "code",
   "execution_count": 48,
   "id": "fd4a4938-db66-4cec-a808-4e4b8cb981e1",
   "metadata": {},
   "outputs": [
    {
     "name": "stderr",
     "output_type": "stream",
     "text": [
      "[mjpeg @ 0x55b147de1780] overread 6\n"
     ]
    }
   ],
   "source": [
    "import cv2\n",
    "import os\n",
    "\n",
    "# Set the path to the video file\n",
    "video_path = 'visem/video/83_11.11.09_HH.avi'\n",
    "\n",
    "# Set the path to the directory where the frames will be saved\n",
    "frame_dir = 'visem/video-83 frames'\n",
    "\n",
    "# Create the frame directory if it doesn't exist\n",
    "os.makedirs(frame_dir, exist_ok=True)\n",
    "\n",
    "# Read the video file\n",
    "cap = cv2.VideoCapture(video_path)\n",
    "\n",
    "# Loop through each frame in the video and save it as an image file\n",
    "frame_num = 0\n",
    "while cap.isOpened():\n",
    "    ret, frame = cap.read()\n",
    "    if not ret:\n",
    "        break\n",
    "    frame_path = os.path.join(frame_dir, f'frame_{frame_num:06d}.jpg')\n",
    "    cv2.imwrite(frame_path, frame)\n",
    "    frame_num += 1\n",
    "\n",
    "# Release the video capture object\n",
    "cap.release()"
   ]
  },
  {
   "cell_type": "code",
   "execution_count": 49,
   "id": "27e00dbf-1aa2-4494-8cc1-7bc9c2d10d0a",
   "metadata": {},
   "outputs": [
    {
     "name": "stderr",
     "output_type": "stream",
     "text": [
      "[mjpeg @ 0x55b147de1780] overread 8\n"
     ]
    }
   ],
   "source": [
    "import cv2\n",
    "import os\n",
    "\n",
    "# Set the path to the video file\n",
    "video_path = 'visem/video/84_11.12.21_HH.avi'\n",
    "\n",
    "# Set the path to the directory where the frames will be saved\n",
    "frame_dir = 'visem/video-84 frames'\n",
    "\n",
    "# Create the frame directory if it doesn't exist\n",
    "os.makedirs(frame_dir, exist_ok=True)\n",
    "\n",
    "# Read the video file\n",
    "cap = cv2.VideoCapture(video_path)\n",
    "\n",
    "# Loop through each frame in the video and save it as an image file\n",
    "frame_num = 0\n",
    "while cap.isOpened():\n",
    "    ret, frame = cap.read()\n",
    "    if not ret:\n",
    "        break\n",
    "    frame_path = os.path.join(frame_dir, f'frame_{frame_num:06d}.jpg')\n",
    "    cv2.imwrite(frame_path, frame)\n",
    "    frame_num += 1\n",
    "\n",
    "# Release the video capture object\n",
    "cap.release()"
   ]
  },
  {
   "cell_type": "code",
   "execution_count": 50,
   "id": "9f8c8b91-f7d1-486b-b25c-277dd351ad8f",
   "metadata": {},
   "outputs": [
    {
     "name": "stderr",
     "output_type": "stream",
     "text": [
      "[mjpeg @ 0x55b147de1e80] overread 8\n"
     ]
    }
   ],
   "source": [
    "import cv2\n",
    "import os\n",
    "\n",
    "# Set the path to the video file\n",
    "video_path = 'visem/video/85_12.02.06_drift_HH.avi'\n",
    "\n",
    "# Set the path to the directory where the frames will be saved\n",
    "frame_dir = 'visem/video-85 frames'\n",
    "\n",
    "# Create the frame directory if it doesn't exist\n",
    "os.makedirs(frame_dir, exist_ok=True)\n",
    "\n",
    "# Read the video file\n",
    "cap = cv2.VideoCapture(video_path)\n",
    "\n",
    "# Loop through each frame in the video and save it as an image file\n",
    "frame_num = 0\n",
    "while cap.isOpened():\n",
    "    ret, frame = cap.read()\n",
    "    if not ret:\n",
    "        break\n",
    "    frame_path = os.path.join(frame_dir, f'frame_{frame_num:06d}.jpg')\n",
    "    cv2.imwrite(frame_path, frame)\n",
    "    frame_num += 1\n",
    "\n",
    "# Release the video capture object\n",
    "cap.release()"
   ]
  },
  {
   "cell_type": "code",
   "execution_count": 51,
   "id": "94199247-adeb-4d90-a898-f1e0dead6210",
   "metadata": {},
   "outputs": [
    {
     "name": "stdout",
     "output_type": "stream",
     "text": [
      "Head of visem/csv/sex_hormones.csv:\n",
      "  ID;Seminal plasma anti-Müllerian hormone (AMH) (pmol/L);Serum total testosterone (nmol/L);Serum oestradiol (nmol/L);Serum sex hormone-binding globulin  \\\n",
      "0                                            1;64;16                                                                                                       \n",
      "1                                         2;423;15;0                                                                                                       \n",
      "2                                             3;37;8                                                                                                       \n",
      "3                                           4;257;11                                                                                                       \n",
      "4                                          5;2203;11                                                                                                       \n",
      "5                                           6;521;10                                                                                                       \n",
      "6                                           7;228;14                                                                                                       \n",
      "7                                            8;32;14                                                                                                       \n",
      "8                                              9;4;9                                                                                                       \n",
      "9                                            10;43;8                                                                                                       \n",
      "\n",
      "   SHBG (nmol/L);Serum follicle-stimulating hormone  \\\n",
      "0                                               8;0   \n",
      "1                                           15;43;7   \n",
      "2                                               2;0   \n",
      "3                                               2;0   \n",
      "4                                               9;0   \n",
      "5                                               2;0   \n",
      "6                                               1;0   \n",
      "7                                               7;0   \n",
      "8                                               1;0   \n",
      "9                                               6;0   \n",
      "\n",
      "   FSH (IU/L);Serum Luteinizing hormone  \\\n",
      "0                               13;15;2   \n",
      "1                                   2;2   \n",
      "2                               18;32;4   \n",
      "3                               15;11;8   \n",
      "4                               14;18;2   \n",
      "5                               15;26;4   \n",
      "6                               18;28;3   \n",
      "7                               13;31;4   \n",
      "8                               14;27;4   \n",
      "9                               17;26;6   \n",
      "\n",
      "   LH (IU/L);Serum inhibin B (ng/L);Serum anti-Müllerian hormone  AMH (pmol/L)  \n",
      "0                                                3;4                  2;289;54  \n",
      "1                                           7;164;19                       NaN  \n",
      "2                                                2;4                   8;67;47  \n",
      "3                                                5;5                  6;132;29  \n",
      "4                                                6;2                  1;139;68  \n",
      "5                                                9;1                  1;188;31  \n",
      "6                                                8;4                   8;91;31  \n",
      "7                                                4;5                  5;160;43  \n",
      "8                                                3;1                  4;115;23  \n",
      "9                                                7;5                   3;69;12  \n",
      "--------------------\n",
      "Head of visem/csv/fatty_acids_serum.csv:\n",
      "                                                       ID;Serum C14:0 (myristic acid);Serum C16:0 (palmitic acid);Serum C16:1 (palmitoleic acid);Serum C18:0 (stearic acid);Serum C18:1 n-9 (oleic acid);Serum total C18:1;Serum C18:2 n-6 (linoleic acid  \\\n",
      "1;0  36;29 72;0 64;13 67;9  00;10 90;19 48;0 30;0 16;0                                               31;3                                                                                                                                                   \n",
      "2;0  28;31 22;0 47;11 84;9  02;11 29;20 34;0 22;0 25;0                                               26;2                                                                                                                                                   \n",
      "3;0  36;27 95;0 47;16 57;8  65;10 36;23 75;0 26;0 19;0                                               35;3                                                                                                                                                   \n",
      "4;0  32;28 10;0 64;16 09;8  56;10 13;21 52;0 17;0 11;0                                               31;4                                                                                                                                                   \n",
      "5;0  40;29 94;0 80;14 17;9  47;11 02;22 29;0 38;0 15;0                                               29;4                                                                                                                                                   \n",
      "6;0  44;30 71;0 76;13 38;10 11;12 18;18 28;0 34;0 25;0                                               44;4                                                                                                                                                   \n",
      "7;0  17;27 33;0 81;15 48;7  31;9  39;19 78;0 20;0 19;0                                               36;3                                                                                                                                                   \n",
      "8;0  15;28 89;0 61;15 52;8  50;10 42;24 52;0 20;0 16;0                                               36;3                                                                                                                                                   \n",
      "9;0  28;28 03;0 69;16 16;9  42;11 25;19 61;0 48;0 16;0                                               43;3                                                                                                                                                   \n",
      "10;0 33;27 80;0 76;17 07;8  79;10 44;20 45;0 22;0 12;0                                               41;4                                                                                                                                                   \n",
      "\n",
      "                                                        LA);Serum C18:3 n-6 (gamma-linoleic acid  \\\n",
      "1;0  36;29 72;0 64;13 67;9  00;10 90;19 48;0 30;0 16;0                                     37;12   \n",
      "2;0  28;31 22;0 47;11 84;9  02;11 29;20 34;0 22;0 25;0                                     06;11   \n",
      "3;0  36;27 95;0 47;16 57;8  65;10 36;23 75;0 26;0 19;0                                      10;7   \n",
      "4;0  32;28 10;0 64;16 09;8  56;10 13;21 52;0 17;0 11;0                                     41;12   \n",
      "5;0  40;29 94;0 80;14 17;9  47;11 02;22 29;0 38;0 15;0                                      33;8   \n",
      "6;0  44;30 71;0 76;13 38;10 11;12 18;18 28;0 34;0 25;0                                      87;7   \n",
      "7;0  17;27 33;0 81;15 48;7  31;9  39;19 78;0 20;0 19;0                                     02;15   \n",
      "8;0  15;28 89;0 61;15 52;8  50;10 42;24 52;0 20;0 16;0                                      29;9   \n",
      "9;0  28;28 03;0 69;16 16;9  42;11 25;19 61;0 48;0 16;0                                      34;8   \n",
      "10;0 33;27 80;0 76;17 07;8  79;10 44;20 45;0 22;0 12;0                                     75;10   \n",
      "\n",
      "                                                        GLA);Serum C20:1 n-9;Serum C20:2 n-6;Serum C20:3 n-6;Serum C20:4 n-6;Serum C20:5 n-3  (eicosapentaenoic acid  \\\n",
      "1;0  36;29 72;0 64;13 67;9  00;10 90;19 48;0 30;0 16;0                                               07;2                                                              \n",
      "2;0  28;31 22;0 47;11 84;9  02;11 29;20 34;0 22;0 25;0                                               64;2                                                              \n",
      "3;0  36;27 95;0 47;16 57;8  65;10 36;23 75;0 26;0 19;0                                               37;1                                                              \n",
      "4;0  32;28 10;0 64;16 09;8  56;10 13;21 52;0 17;0 11;0                                               09;1                                                              \n",
      "5;0  40;29 94;0 80;14 17;9  47;11 02;22 29;0 38;0 15;0                                               61;1                                                              \n",
      "6;0  44;30 71;0 76;13 38;10 11;12 18;18 28;0 34;0 25;0                                               14;2                                                              \n",
      "7;0  17;27 33;0 81;15 48;7  31;9  39;19 78;0 20;0 19;0                                               65;1                                                              \n",
      "8;0  15;28 89;0 61;15 52;8  50;10 42;24 52;0 20;0 16;0                                               94;0                                                              \n",
      "9;0  28;28 03;0 69;16 16;9  42;11 25;19 61;0 48;0 16;0                                               62;2                                                              \n",
      "10;0 33;27 80;0 76;17 07;8  79;10 44;20 45;0 22;0 12;0                                               62;1                                                              \n",
      "\n",
      "                                                        EPA);Serum C22:5 n-3 (docosapentaenoic acid  \\\n",
      "1;0  36;29 72;0 64;13 67;9  00;10 90;19 48;0 30;0 16;0                                         15;1   \n",
      "2;0  28;31 22;0 47;11 84;9  02;11 29;20 34;0 22;0 25;0                                         80;1   \n",
      "3;0  36;27 95;0 47;16 57;8  65;10 36;23 75;0 26;0 19;0                                         95;0   \n",
      "4;0  32;28 10;0 64;16 09;8  56;10 13;21 52;0 17;0 11;0                                         56;1   \n",
      "5;0  40;29 94;0 80;14 17;9  47;11 02;22 29;0 38;0 15;0                                         73;1   \n",
      "6;0  44;30 71;0 76;13 38;10 11;12 18;18 28;0 34;0 25;0                                         90;1   \n",
      "7;0  17;27 33;0 81;15 48;7  31;9  39;19 78;0 20;0 19;0                                         41;1   \n",
      "8;0  15;28 89;0 61;15 52;8  50;10 42;24 52;0 20;0 16;0                                         58;1   \n",
      "9;0  28;28 03;0 69;16 16;9  42;11 25;19 61;0 48;0 16;0                                         13;1   \n",
      "10;0 33;27 80;0 76;17 07;8  79;10 44;20 45;0 22;0 12;0                                         23;0   \n",
      "\n",
      "                                                        DPA);Serum C22:6 n-3 (docosahexaenoic acid  \\\n",
      "1;0  36;29 72;0 64;13 67;9  00;10 90;19 48;0 30;0 16;0                                        35;5   \n",
      "2;0  28;31 22;0 47;11 84;9  02;11 29;20 34;0 22;0 25;0                                        04;6   \n",
      "3;0  36;27 95;0 47;16 57;8  65;10 36;23 75;0 26;0 19;0                                        98;6   \n",
      "4;0  32;28 10;0 64;16 09;8  56;10 13;21 52;0 17;0 11;0                                        32;3   \n",
      "5;0  40;29 94;0 80;14 17;9  47;11 02;22 29;0 38;0 15;0                                        58;4   \n",
      "6;0  44;30 71;0 76;13 38;10 11;12 18;18 28;0 34;0 25;0                                        30;7   \n",
      "7;0  17;27 33;0 81;15 48;7  31;9  39;19 78;0 20;0 19;0                                        05;5   \n",
      "8;0  15;28 89;0 61;15 52;8  50;10 42;24 52;0 20;0 16;0                                        07;4   \n",
      "9;0  28;28 03;0 69;16 16;9  42;11 25;19 61;0 48;0 16;0                                        07;7   \n",
      "10;0 33;27 80;0 76;17 07;8  79;10 44;20 45;0 22;0 12;0                                        97;4   \n",
      "\n",
      "                                                         DHA)  \n",
      "1;0  36;29 72;0 64;13 67;9  00;10 90;19 48;0 30;0 16;0     53  \n",
      "2;0  28;31 22;0 47;11 84;9  02;11 29;20 34;0 22;0 25;0     31  \n",
      "3;0  36;27 95;0 47;16 57;8  65;10 36;23 75;0 26;0 19;0     34  \n",
      "4;0  32;28 10;0 64;16 09;8  56;10 13;21 52;0 17;0 11;0     23  \n",
      "5;0  40;29 94;0 80;14 17;9  47;11 02;22 29;0 38;0 15;0     31  \n",
      "6;0  44;30 71;0 76;13 38;10 11;12 18;18 28;0 34;0 25;0      1  \n",
      "7;0  17;27 33;0 81;15 48;7  31;9  39;19 78;0 20;0 19;0     16  \n",
      "8;0  15;28 89;0 61;15 52;8  50;10 42;24 52;0 20;0 16;0     27  \n",
      "9;0  28;28 03;0 69;16 16;9  42;11 25;19 61;0 48;0 16;0     77  \n",
      "10;0 33;27 80;0 76;17 07;8  79;10 44;20 45;0 22;0 12;0     82  \n",
      "--------------------\n",
      "Head of visem/csv/semen_analysis_data.csv:\n",
      "                                      ID;Sperm concentration (x10⁶/mL);Total sperm count (x10⁶);Ejaculate volume (mL);Sperm vitality (%);Normal spermatozoa (%);Head defects (%);Midpiece and neck defects (%);Tail defects (%);Cytoplasmic droplet (%);Teratozoospermia index;Progressive motility (%);Non progressive sperm motility (%);Immotile sperm (%);High DNA stainability  \\\n",
      "1;105 3;363 1;3 5;81;2 0;98 0;11 2;38                                                0;3                                                                                                                                                                                                                                                                                              \n",
      "2;45  4;141 6;3 1;50;3 0;97 0;8  5;24                                                5;2                                                                                                                                                                                                                                                                                              \n",
      "3;50  0;124 5;2 5;90;6 9;90 6;32 8;14                                                3;1                                                                                                                                                                                                                                                                                              \n",
      "4;42  9;103 8;2 4;80;2 8;96 5;24 1;23                                                1;5                                                                                                                                                                                                                                                                                              \n",
      "5;32  8;158 7;4 8;90;3 2;95 0;32 5;15                                                7;7                                                                                                                                                                                                                                                                                              \n",
      "6;52  0;228 8;4 4;75;3 0;96 5;30 8;33                                                3;2                                                                                                                                                                                                                                                                                              \n",
      "7;13  0;20  8;1 6;52;3 0;95 5;38 6;19                                                9;6                                                                                                                                                                                                                                                                                              \n",
      "8;21  0;153 3;7 3;86;6 7;90 8;35 3;7                                                 5;4                                                                                                                                                                                                                                                                                              \n",
      "9;89  0;516 2;5 8;40;2 5;97 0;14 1;29                                                1;1                                                                                                                                                                                                                                                                                              \n",
      "10;40 0;96  0;2 4;73;4 7;91 8;24 1;28                                                1;0                                                                                                                                                                                                                                                                                              \n",
      "\n",
      "                                       HDS (%);DNA fragmentation index  \\\n",
      "1;105 3;363 1;3 5;81;2 0;98 0;11 2;38                              4;1   \n",
      "2;45  4;141 6;3 1;50;3 0;97 0;8  5;24                              0;1   \n",
      "3;50  0;124 5;2 5;90;6 9;90 6;32 8;14                              5;1   \n",
      "4;42  9;103 8;2 4;80;2 8;96 5;24 1;23                              2;1   \n",
      "5;32  8;158 7;4 8;90;3 2;95 0;32 5;15                              0;1   \n",
      "6;52  0;228 8;4 4;75;3 0;96 5;30 8;33                              5;1   \n",
      "7;13  0;20  8;1 6;52;3 0;95 5;38 6;19                              0;1   \n",
      "8;21  0;153 3;7 3;86;6 7;90 8;35 3;7                               5;1   \n",
      "9;89  0;516 2;5 8;40;2 5;97 0;14 1;29                              0;1   \n",
      "10;40 0;96  0;2 4;73;4 7;91 8;24 1;28                              7;1   \n",
      "\n",
      "                                                 DFI (%)  \n",
      "1;105 3;363 1;3 5;81;2 0;98 0;11 2;38  54;51;19;30;13;29  \n",
      "2;45  4;141 6;3 1;50;3 0;97 0;8  5;24  36;22;16;62;13;57  \n",
      "3;50  0;124 5;2 5;90;6 9;90 6;32 8;14  51;18;26;56;11;12  \n",
      "4;42  9;103 8;2 4;80;2 8;96 5;24 1;23  53;33;26;41;10;15  \n",
      "5;32  8;158 7;4 8;90;3 2;95 0;32 5;15  56;43;22;35;21;13  \n",
      "6;52  0;228 8;4 4;75;3 0;96 5;30 8;33  68;31;31;38;14;42  \n",
      "7;13  0;20  8;1 6;52;3 0;95 5;38 6;19    62;0;4;96;15;14  \n",
      "8;21  0;153 3;7 3;86;6 7;90 8;35 3;7    48;43;37;20;5;14  \n",
      "9;89  0;516 2;5 8;40;2 5;97 0;14 1;29   45;26;42;32;2;80  \n",
      "10;40 0;96  0;2 4;73;4 7;91 8;24 1;28   52;26;42;32;4;50  \n",
      "--------------------\n",
      "Head of visem/csv/participant_related_data.csv:\n",
      "          ID;Abstinence time(days);Body mass index (kg/m²);Age (years)\n",
      "1;4  0;32                                               5;36          \n",
      "2;4  0;33                                               7;61          \n",
      "3;2  0;62                                               7;51          \n",
      "4;2  5;45                                               5;38          \n",
      "5;3  0;51                                               0;33          \n",
      "6;20 0;47                                               9;50          \n",
      "7;5  0;41                                               4;45          \n",
      "8;3  0;40                                               8;28          \n",
      "9;7  0;41                                               8;59          \n",
      "10;2 5;54                                               2;47          \n",
      "--------------------\n",
      "Head of visem/csv/fatty_acids_spermatoza.csv:\n",
      "                                                                      ID;Sperm C14:0 (myristic acid);Sperm C15:0 (pentadecanoic acid);Sperm C16:0 (palmitic acid);Sperm C16:1 n-7 (palmitoleic acid);Sperm C17:0;Sperm C18:0 (stearic acid);Sperm C18:1 trans n-6 to n-11;Sperm C18:1 n-9 (oleic acid);Sperm C18:1 n-7 to n-11;Sperm C18:2 n-6 (Linoleic acid  \\\n",
      "1;1  3;0 2;24 3;0 9;0 3;9  7;0 8;9  8;2 4;4 2;0 9;0 02;0 05;0 4;0 5;0                                                1;4                                                                                                                                                                                                                                        \n",
      "2;1  5;0 2;26 3;1 3;0 3;8  9;0 9;12 1;2 7;4 9;1 0;0 03;0 09;0 3;0 9;2                                                1;2                                                                                                                                                                                                                                        \n",
      "3;1  1;0 2;24 8;0 9;0 2;9  0;0 5;12 3;2 3;3 0;1 2;0 03;0 07;0 4;0 4;1                                                9;2                                                                                                                                                                                                                                        \n",
      "4;1  1;0 2;22 8;1 0;0 3;9  4;0 9;18 2;2 4;3 2;1 1;0 06;0 06;0 5;0 5;2                                                1;2                                                                                                                                                                                                                                        \n",
      "5;1  1;0 1;22 1;0 9;0 2;9  7;0 4;10 0;2 5;4 0;0 7;0 02;0 06;0 4;0 7;0                                                6;4                                                                                                                                                                                                                                        \n",
      "6;1  2;0 2;25 1;1 1;0 2;7  6;0 5;12 9;2 6;3 1;0 0;0 82;0 06;0 4;0 5;1                                                1;2                                                                                                                                                                                                                                        \n",
      "7;1  6;0 3;24 0;1 3;0 4;10 1;1 3;21 1;2 5;3 7;1 5;0 05;0 10;0 5;0 5;2                                                1;2                                                                                                                                                                                                                                        \n",
      "8;1  2;0 4;22 9;1 0;0 4;9  7;0 6;11 7;2 5;4 5;0 7;0 04;0 07;0 4;0 5;1                                                3;2                                                                                                                                                                                                                                        \n",
      "9;1  1;0 2;25 3;1 1;0 3;7  9;0 5;11 5;2 3;3 4;0 8;0 03;0 09;0 3;0 5;1                                                9;1                                                                                                                                                                                                                                        \n",
      "10;1 1;0 2;24 3;1 7;0 3;9  3;0 7;14 8;2 5;4 2;0 7;0 04;0 06;0 3;0 4;0                                                9;3                                                                                                                                                                                                                                        \n",
      "\n",
      "                                                                       LA);Sperm C20:0;Sperm C18:3 n-6 (gamma-linoleic acid  \\\n",
      "1;1  3;0 2;24 3;0 9;0 3;9  7;0 8;9  8;2 4;4 2;0 9;0 02;0 05;0 4;0 5;0                                                2;2      \n",
      "2;1  5;0 2;26 3;1 3;0 3;8  9;0 9;12 1;2 7;4 9;1 0;0 03;0 09;0 3;0 9;2                                                6;2      \n",
      "3;1  1;0 2;24 8;0 9;0 2;9  0;0 5;12 3;2 3;3 0;1 2;0 03;0 07;0 4;0 4;1                                                2;3      \n",
      "4;1  1;0 2;22 8;1 0;0 3;9  4;0 9;18 2;2 4;3 2;1 1;0 06;0 06;0 5;0 5;2                                                4;2      \n",
      "5;1  1;0 1;22 1;0 9;0 2;9  7;0 4;10 0;2 5;4 0;0 7;0 02;0 06;0 4;0 7;0                                                9;3      \n",
      "6;1  2;0 2;25 1;1 1;0 2;7  6;0 5;12 9;2 6;3 1;0 0;0 82;0 06;0 4;0 5;1                                                3;2      \n",
      "7;1  6;0 3;24 0;1 3;0 4;10 1;1 3;21 1;2 5;3 7;1 5;0 05;0 10;0 5;0 5;2                                                8;2      \n",
      "8;1  2;0 4;22 9;1 0;0 4;9  7;0 6;11 7;2 5;4 5;0 7;0 04;0 07;0 4;0 5;1                                                8;2      \n",
      "9;1  1;0 2;25 3;1 1;0 3;7  9;0 5;11 5;2 3;3 4;0 8;0 03;0 09;0 3;0 5;1                                                6;2      \n",
      "10;1 1;0 2;24 3;1 7;0 3;9  3;0 7;14 8;2 5;4 2;0 7;0 04;0 06;0 3;0 4;0                                                2;3      \n",
      "\n",
      "                                                                       GLA);Sperm C18:3 n-3 (a-linoleic acid  \\\n",
      "1;1  3;0 2;24 3;0 9;0 3;9  7;0 8;9  8;2 4;4 2;0 9;0 02;0 05;0 4;0 5;0                                    5;0   \n",
      "2;1  5;0 2;26 3;1 3;0 3;8  9;0 9;12 1;2 7;4 9;1 0;0 03;0 09;0 3;0 9;2                                    6;0   \n",
      "3;1  1;0 2;24 8;0 9;0 2;9  0;0 5;12 3;2 3;3 0;1 2;0 03;0 07;0 4;0 4;1                                    2;0   \n",
      "4;1  1;0 2;22 8;1 0;0 3;9  4;0 9;18 2;2 4;3 2;1 1;0 06;0 06;0 5;0 5;2                                    9;0   \n",
      "5;1  1;0 1;22 1;0 9;0 2;9  7;0 4;10 0;2 5;4 0;0 7;0 02;0 06;0 4;0 7;0                                    0;0   \n",
      "6;1  2;0 2;25 1;1 1;0 2;7  6;0 5;12 9;2 6;3 1;0 0;0 82;0 06;0 4;0 5;1                                    0;0   \n",
      "7;1  6;0 3;24 0;1 3;0 4;10 1;1 3;21 1;2 5;3 7;1 5;0 05;0 10;0 5;0 5;2                                    2;0   \n",
      "8;1  2;0 4;22 9;1 0;0 4;9  7;0 6;11 7;2 5;4 5;0 7;0 04;0 07;0 4;0 5;1                                    7;0   \n",
      "9;1  1;0 2;25 3;1 1;0 3;7  9;0 5;11 5;2 3;3 4;0 8;0 03;0 09;0 3;0 5;1                                    8;0   \n",
      "10;1 1;0 2;24 3;1 7;0 3;9  3;0 7;14 8;2 5;4 2;0 7;0 04;0 06;0 3;0 4;0                                    0;0   \n",
      "\n",
      "                                                                       ALA);Sperm C20:1 n-9;Sperm C20:2 n-6;Sperm C22:0;Sperm C20:3 n-6;Sperm C20:4 n-6 and C22:1 n-9 combined;Sperm C20:5 n-3 (eicosapentaenoic acid  \\\n",
      "1;1  3;0 2;24 3;0 9;0 3;9  7;0 8;9  8;2 4;4 2;0 9;0 02;0 05;0 4;0 5;0                                               06;1                                                                                                \n",
      "2;1  5;0 2;26 3;1 3;0 3;8  9;0 9;12 1;2 7;4 9;1 0;0 03;0 09;0 3;0 9;2                                               14;1                                                                                                \n",
      "3;1  1;0 2;24 8;0 9;0 2;9  0;0 5;12 3;2 3;3 0;1 2;0 03;0 07;0 4;0 4;1                                               17;1                                                                                                \n",
      "4;1  1;0 2;22 8;1 0;0 3;9  4;0 9;18 2;2 4;3 2;1 1;0 06;0 06;0 5;0 5;2                                               09;1                                                                                                \n",
      "5;1  1;0 1;22 1;0 9;0 2;9  7;0 4;10 0;2 5;4 0;0 7;0 02;0 06;0 4;0 7;0                                               05;1                                                                                                \n",
      "6;1  2;0 2;25 1;1 1;0 2;7  6;0 5;12 9;2 6;3 1;0 0;0 82;0 06;0 4;0 5;1                                               05;0                                                                                                \n",
      "7;1  6;0 3;24 0;1 3;0 4;10 1;1 3;21 1;2 5;3 7;1 5;0 05;0 10;0 5;0 5;2                                               07;2                                                                                                \n",
      "8;1  2;0 4;22 9;1 0;0 4;9  7;0 6;11 7;2 5;4 5;0 7;0 04;0 07;0 4;0 5;1                                               07;2                                                                                                \n",
      "9;1  1;0 2;25 3;1 1;0 3;7  9;0 5;11 5;2 3;3 4;0 8;0 03;0 09;0 3;0 5;1                                               14;1                                                                                                \n",
      "10;1 1;0 2;24 3;1 7;0 3;9  3;0 7;14 8;2 5;4 2;0 7;0 04;0 06;0 3;0 4;0                                               07;1                                                                                                \n",
      "\n",
      "                                                                       EPA);Sperm C24:0;Sperm C24:1 n-9;Sperm C22:5 n-3 (docosapentaenoic acid  \\\n",
      "1;1  3;0 2;24 3;0 9;0 3;9  7;0 8;9  8;2 4;4 2;0 9;0 02;0 05;0 4;0 5;0                                                0;1                         \n",
      "2;1  5;0 2;26 3;1 3;0 3;8  9;0 9;12 1;2 7;4 9;1 0;0 03;0 09;0 3;0 9;2                                                4;1                         \n",
      "3;1  1;0 2;24 8;0 9;0 2;9  0;0 5;12 3;2 3;3 0;1 2;0 03;0 07;0 4;0 4;1                                                7;2                         \n",
      "4;1  1;0 2;22 8;1 0;0 3;9  4;0 9;18 2;2 4;3 2;1 1;0 06;0 06;0 5;0 5;2                                                8;2                         \n",
      "5;1  1;0 1;22 1;0 9;0 2;9  7;0 4;10 0;2 5;4 0;0 7;0 02;0 06;0 4;0 7;0                                                0;1                         \n",
      "6;1  2;0 2;25 1;1 1;0 2;7  6;0 5;12 9;2 6;3 1;0 0;0 82;0 06;0 4;0 5;1                                                9;1                         \n",
      "7;1  6;0 3;24 0;1 3;0 4;10 1;1 3;21 1;2 5;3 7;1 5;0 05;0 10;0 5;0 5;2                                                4;2                         \n",
      "8;1  2;0 4;22 9;1 0;0 4;9  7;0 6;11 7;2 5;4 5;0 7;0 04;0 07;0 4;0 5;1                                                1;1                         \n",
      "9;1  1;0 2;25 3;1 1;0 3;7  9;0 5;11 5;2 3;3 4;0 8;0 03;0 09;0 3;0 5;1                                                6;2                         \n",
      "10;1 1;0 2;24 3;1 7;0 3;9  3;0 7;14 8;2 5;4 2;0 7;0 04;0 06;0 3;0 4;0                                                4;2                         \n",
      "\n",
      "                                                                       DPA);Sperm C22:6  \\\n",
      "1;1  3;0 2;24 3;0 9;0 3;9  7;0 8;9  8;2 4;4 2;0 9;0 02;0 05;0 4;0 5;0               2;1   \n",
      "2;1  5;0 2;26 3;1 3;0 3;8  9;0 9;12 1;2 7;4 9;1 0;0 03;0 09;0 3;0 9;2               6;1   \n",
      "3;1  1;0 2;24 8;0 9;0 2;9  0;0 5;12 3;2 3;3 0;1 2;0 03;0 07;0 4;0 4;1               0;1   \n",
      "4;1  1;0 2;22 8;1 0;0 3;9  4;0 9;18 2;2 4;3 2;1 1;0 06;0 06;0 5;0 5;2               2;2   \n",
      "5;1  1;0 1;22 1;0 9;0 2;9  7;0 4;10 0;2 5;4 0;0 7;0 02;0 06;0 4;0 7;0               5;1   \n",
      "6;1  2;0 2;25 1;1 1;0 2;7  6;0 5;12 9;2 6;3 1;0 0;0 82;0 06;0 4;0 5;1               7;1   \n",
      "7;1  6;0 3;24 0;1 3;0 4;10 1;1 3;21 1;2 5;3 7;1 5;0 05;0 10;0 5;0 5;2               0;1   \n",
      "8;1  2;0 4;22 9;1 0;0 4;9  7;0 6;11 7;2 5;4 5;0 7;0 04;0 07;0 4;0 5;1               7;0   \n",
      "9;1  1;0 2;25 3;1 1;0 3;7  9;0 5;11 5;2 3;3 4;0 8;0 03;0 09;0 3;0 5;1               2;1   \n",
      "10;1 1;0 2;24 3;1 7;0 3;9  3;0 7;14 8;2 5;4 2;0 7;0 04;0 06;0 3;0 4;0               1;0   \n",
      "\n",
      "                                                                      n3 (docosahexaenoic acid  \\\n",
      "1;1  3;0 2;24 3;0 9;0 3;9  7;0 8;9  8;2 4;4 2;0 9;0 02;0 05;0 4;0 5;0                     3;25   \n",
      "2;1  5;0 2;26 3;1 3;0 3;8  9;0 9;12 1;2 7;4 9;1 0;0 03;0 09;0 3;0 9;2                     6;17   \n",
      "3;1  1;0 2;24 8;0 9;0 2;9  0;0 5;12 3;2 3;3 0;1 2;0 03;0 07;0 4;0 4;1                     1;21   \n",
      "4;1  1;0 2;22 8;1 0;0 3;9  4;0 9;18 2;2 4;3 2;1 1;0 06;0 06;0 5;0 5;2                     0;14   \n",
      "5;1  1;0 1;22 1;0 9;0 2;9  7;0 4;10 0;2 5;4 0;0 7;0 02;0 06;0 4;0 7;0                     0;26   \n",
      "6;1  2;0 2;25 1;1 1;0 2;7  6;0 5;12 9;2 6;3 1;0 0;0 82;0 06;0 4;0 5;1                     1;24   \n",
      "7;1  6;0 3;24 0;1 3;0 4;10 1;1 3;21 1;2 5;3 7;1 5;0 05;0 10;0 5;0 5;2                     0;10   \n",
      "8;1  2;0 4;22 9;1 0;0 4;9  7;0 6;11 7;2 5;4 5;0 7;0 04;0 07;0 4;0 5;1                     8;21   \n",
      "9;1  1;0 2;25 3;1 1;0 3;7  9;0 5;11 5;2 3;3 4;0 8;0 03;0 09;0 3;0 5;1                     6;23   \n",
      "10;1 1;0 2;24 3;1 7;0 3;9  3;0 7;14 8;2 5;4 2;0 7;0 04;0 06;0 3;0 4;0                     9;18   \n",
      "\n",
      "                                                                        DHA)  \n",
      "1;1  3;0 2;24 3;0 9;0 3;9  7;0 8;9  8;2 4;4 2;0 9;0 02;0 05;0 4;0 5;0      3  \n",
      "2;1  5;0 2;26 3;1 3;0 3;8  9;0 9;12 1;2 7;4 9;1 0;0 03;0 09;0 3;0 9;2      3  \n",
      "3;1  1;0 2;24 8;0 9;0 2;9  0;0 5;12 3;2 3;3 0;1 2;0 03;0 07;0 4;0 4;1      5  \n",
      "4;1  1;0 2;22 8;1 0;0 3;9  4;0 9;18 2;2 4;3 2;1 1;0 06;0 06;0 5;0 5;2      8  \n",
      "5;1  1;0 1;22 1;0 9;0 2;9  7;0 4;10 0;2 5;4 0;0 7;0 02;0 06;0 4;0 7;0      6  \n",
      "6;1  2;0 2;25 1;1 1;0 2;7  6;0 5;12 9;2 6;3 1;0 0;0 82;0 06;0 4;0 5;1      9  \n",
      "7;1  6;0 3;24 0;1 3;0 4;10 1;1 3;21 1;2 5;3 7;1 5;0 05;0 10;0 5;0 5;2      8  \n",
      "8;1  2;0 4;22 9;1 0;0 4;9  7;0 6;11 7;2 5;4 5;0 7;0 04;0 07;0 4;0 5;1      0  \n",
      "9;1  1;0 2;25 3;1 1;0 3;7  9;0 5;11 5;2 3;3 4;0 8;0 03;0 09;0 3;0 5;1      2  \n",
      "10;1 1;0 2;24 3;1 7;0 3;9  3;0 7;14 8;2 5;4 2;0 7;0 04;0 06;0 3;0 4;0      6  \n",
      "--------------------\n"
     ]
    }
   ],
   "source": [
    "import pandas as pd\n",
    "\n",
    "# List of file names\n",
    "file_names = ['visem/csv/sex_hormones.csv', 'visem/csv/fatty_acids_serum.csv', 'visem/csv/semen_analysis_data.csv', 'visem/csv/participant_related_data.csv', 'visem/csv/fatty_acids_spermatoza.csv']\n",
    "\n",
    "# Read and display head(10) of each file\n",
    "for file_name in file_names:\n",
    "    df = pd.read_csv(file_name)\n",
    "    print(f\"Head of {file_name}:\")\n",
    "    print(df.head(10))\n",
    "    print(\"--------------------\")\n"
   ]
  },
  {
   "cell_type": "code",
   "execution_count": 58,
   "id": "eec3b298-1047-4e42-a22a-29b026d7cd7d",
   "metadata": {},
   "outputs": [],
   "source": [
    "import pandas as pd\n",
    "\n",
    "# List of training file names\n",
    "train_files = ['visem/csv/sex_hormones.csv','visem/csv/fatty_acids_serum.csv','visem/csv/participant_related_data.csv']\n",
    "\n",
    "# List of test file names\n",
    "test_files = ['visem/csv/fatty_acids_spermatoza.csv','visem/csv/semen_analysis_data.csv']\n"
   ]
  },
  {
   "cell_type": "code",
   "execution_count": 59,
   "id": "eea5d425-a7c5-4448-96b5-866a62ba9f77",
   "metadata": {},
   "outputs": [
    {
     "name": "stdout",
     "output_type": "stream",
     "text": [
      "Null rows in visem/csv/participant_related_data.csv:\n",
      "                        ID;Abstinence time(days);Body mass index (kg/m²);Age (years)\n",
      "24;Not reported;34 1;50                                                NaN          \n",
      "--------------------\n"
     ]
    }
   ],
   "source": [
    "# Iterate over each training file\n",
    "for train_file in train_files:\n",
    "    df_train = pd.read_csv(train_file)\n",
    "    \n",
    "    # Check for null rows\n",
    "    null_rows = df_train[df_train.isnull().all(axis=1)]\n",
    "    \n",
    "    # Print null rows, if any\n",
    "    if not null_rows.empty:\n",
    "        print(f\"Null rows in {train_file}:\")\n",
    "        print(null_rows)\n",
    "        print(\"--------------------\")"
   ]
  },
  {
   "cell_type": "code",
   "execution_count": 61,
   "id": "27f02d99-61a0-4458-b59a-8637513f3161",
   "metadata": {},
   "outputs": [],
   "source": [
    "for test_file in test_files:\n",
    "    df_test = pd.read_csv(test_file)\n",
    "    \n",
    "    # Check for null rows\n",
    "    null_rows = df_test[df_test.isnull().all(axis=1)]\n",
    "    \n",
    "    # Print null rows, if any\n",
    "    if not null_rows.empty:\n",
    "        print(f\"Null rows in {test_file}:\")\n",
    "        print(null_rows)\n",
    "        print(\"--------------------\")"
   ]
  },
  {
   "cell_type": "code",
   "execution_count": 62,
   "id": "4aabada5-dc1d-42e4-8606-1d1295daf6c7",
   "metadata": {},
   "outputs": [],
   "source": [
    "#subset where no all rows being null\n",
    "data_fea_train=df_train[df_train.isnull().all(1)!=True]"
   ]
  },
  {
   "cell_type": "code",
   "execution_count": 63,
   "id": "7f9b6645-3f9a-49cb-86d8-93a8701a9439",
   "metadata": {},
   "outputs": [
    {
     "data": {
      "text/plain": [
       "(84, 1)"
      ]
     },
     "execution_count": 63,
     "metadata": {},
     "output_type": "execute_result"
    }
   ],
   "source": [
    "#shape of train after removing null rows\n",
    "data_fea_train.shape"
   ]
  },
  {
   "cell_type": "code",
   "execution_count": 64,
   "id": "c5fe9b20-0dae-4345-b0e2-f8723ccdaa0c",
   "metadata": {},
   "outputs": [],
   "source": [
    "#subset where no all rows being null\n",
    "data_fea_test=df_test[df_test.isnull().all(1)!=True]"
   ]
  },
  {
   "cell_type": "code",
   "execution_count": 65,
   "id": "4981eca3-a3df-442c-b42d-c4fdd346454c",
   "metadata": {},
   "outputs": [
    {
     "data": {
      "text/plain": [
       "(85, 3)"
      ]
     },
     "execution_count": 65,
     "metadata": {},
     "output_type": "execute_result"
    }
   ],
   "source": [
    "#shape of train after removing null rows\n",
    "data_fea_test.shape"
   ]
  }
 ],
 "metadata": {
  "kernelspec": {
   "display_name": "Tensorflow (AI kit)",
   "language": "python",
   "name": "c009-intel_distribution_of_python_3_oneapi-beta05-tf"
  },
  "language_info": {
   "codemirror_mode": {
    "name": "ipython",
    "version": 3
   },
   "file_extension": ".py",
   "mimetype": "text/x-python",
   "name": "python",
   "nbconvert_exporter": "python",
   "pygments_lexer": "ipython3",
   "version": "3.9.16"
  }
 },
 "nbformat": 4,
 "nbformat_minor": 5
}

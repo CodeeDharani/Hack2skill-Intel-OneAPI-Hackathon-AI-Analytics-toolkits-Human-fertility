{
 "cells": [
  {
   "cell_type": "code",
   "execution_count": 2,
   "id": "1760a002-ce56-4521-b176-5474eb9472db",
   "metadata": {},
   "outputs": [],
   "source": [
    "import numpy as np # linear algebra\n",
    "import pandas as pd # data processing, CSV file I/O (e.g. pd.read_csv)\n",
    "import os"
   ]
  },
  {
   "cell_type": "code",
   "execution_count": 4,
   "id": "473d0d49-fc86-422a-9235-2340889cfe3d",
   "metadata": {},
   "outputs": [
    {
     "data": {
      "text/plain": [
       "['38',\n",
       " '35',\n",
       " '24',\n",
       " '12',\n",
       " '23',\n",
       " '19',\n",
       " '82',\n",
       " '60',\n",
       " '.ipynb_checkpoints',\n",
       " '54',\n",
       " '47',\n",
       " '36',\n",
       " '21',\n",
       " '13',\n",
       " '22',\n",
       " '29',\n",
       " '30',\n",
       " '11',\n",
       " '15',\n",
       " '14',\n",
       " '52']"
      ]
     },
     "execution_count": 4,
     "metadata": {},
     "output_type": "execute_result"
    }
   ],
   "source": [
    "# List content of the Train data directory\n",
    "os.listdir(\"visem 0.2/visem tracking/visem_tracking_train_v4/Train\")"
   ]
  },
  {
   "cell_type": "code",
   "execution_count": 5,
   "id": "eefaef1a-5c58-4d63-8ca7-473ed41cd090",
   "metadata": {},
   "outputs": [],
   "source": [
    "# Preapre Train and Validation data sequences\n",
    "train_num = [11, 12, 13, 14, 15, 19, 21, 22, 23, 24, 29, 30, 35, 36, 38, 47]\n",
    "validation_num = [52, 54, 60, 82]"
   ]
  },
  {
   "cell_type": "code",
   "execution_count": 6,
   "id": "81260ee6-eb20-484d-9474-6e1a0cf42131",
   "metadata": {},
   "outputs": [],
   "source": [
    "# Prepare a file which contain train and validation data information and class information\n",
    "main_train_dir = \"visem 0.2/visem tracking/visem_tracking_train_v4/Train\"\n",
    "\n",
    "with open(\"./yolov5/train_val.yaml\", \"w\") as f:\n",
    "    \n",
    "    # Writing train paths to yaml\n",
    "    f.write(\"train: [ \\n\")\n",
    "    for t in train_num:\n",
    "        f.write(main_train_dir + f\"/{t},\" + \"\\n\")\n",
    "    f.write(\"]\\n\\n\")\n",
    "    \n",
    "    # writing validation paths to yaml\n",
    "    f.write(\"val: [\\n\")\n",
    "    for v in validation_num:\n",
    "        f.write(main_train_dir + f\"/{v},\" + \"\\n\")\n",
    "    f.write(\"]\\n\\n\")\n",
    "    \n",
    "    # writing number of class parameter\n",
    "    f.write(\"nc: 3\\n\\n\")\n",
    "    \n",
    "    # Writing class names\n",
    "    f.write('names: [ \"sperm\", \"cluster\", \"small_or_pinhead\"]')\n",
    "f.close()"
   ]
  },
  {
   "cell_type": "code",
   "execution_count": 7,
   "id": "f630ce89-9d25-4690-93b1-029277539e31",
   "metadata": {},
   "outputs": [
    {
     "name": "stdout",
     "output_type": "stream",
     "text": [
      "train: [ \n",
      "visem 0.2/visem tracking/visem_tracking_train_v4/Train/11,\n",
      "visem 0.2/visem tracking/visem_tracking_train_v4/Train/12,\n",
      "visem 0.2/visem tracking/visem_tracking_train_v4/Train/13,\n",
      "visem 0.2/visem tracking/visem_tracking_train_v4/Train/14,\n",
      "visem 0.2/visem tracking/visem_tracking_train_v4/Train/15,\n",
      "visem 0.2/visem tracking/visem_tracking_train_v4/Train/19,\n",
      "visem 0.2/visem tracking/visem_tracking_train_v4/Train/21,\n",
      "visem 0.2/visem tracking/visem_tracking_train_v4/Train/22,\n",
      "visem 0.2/visem tracking/visem_tracking_train_v4/Train/23,\n",
      "visem 0.2/visem tracking/visem_tracking_train_v4/Train/24,\n",
      "visem 0.2/visem tracking/visem_tracking_train_v4/Train/29,\n",
      "visem 0.2/visem tracking/visem_tracking_train_v4/Train/30,\n",
      "visem 0.2/visem tracking/visem_tracking_train_v4/Train/35,\n",
      "visem 0.2/visem tracking/visem_tracking_train_v4/Train/36,\n",
      "visem 0.2/visem tracking/visem_tracking_train_v4/Train/38,\n",
      "visem 0.2/visem tracking/visem_tracking_train_v4/Train/47,\n",
      "]\n",
      "\n",
      "val: [\n",
      "visem 0.2/visem tracking/visem_tracking_train_v4/Train/52,\n",
      "visem 0.2/visem tracking/visem_tracking_train_v4/Train/54,\n",
      "visem 0.2/visem tracking/visem_tracking_train_v4/Train/60,\n",
      "visem 0.2/visem tracking/visem_tracking_train_v4/Train/82,\n",
      "]\n",
      "\n",
      "nc: 3\n",
      "\n",
      "names: [ \"sperm\", \"cluster\", \"small_or_pinhead\"]"
     ]
    }
   ],
   "source": [
    "# Checking the content of yaml file\n",
    "!cat \"./yolov5/train_val.yaml\""
   ]
  },
  {
   "cell_type": "code",
   "execution_count": 9,
   "id": "976ad7b6-e653-47e0-a375-c745e7d85b4d",
   "metadata": {},
   "outputs": [],
   "source": [
    "import torch"
   ]
  },
  {
   "cell_type": "code",
   "execution_count": 10,
   "id": "8482b396-86d3-4212-9a9b-617225ef81c6",
   "metadata": {},
   "outputs": [],
   "source": [
    "import torch.distributed as dist"
   ]
  },
  {
   "cell_type": "code",
   "execution_count": 12,
   "id": "3351af65-6b42-491d-81da-9d23c9e68bfa",
   "metadata": {},
   "outputs": [
    {
     "name": "stdout",
     "output_type": "stream",
     "text": [
      "Traceback (most recent call last):\n",
      "  File \"/home/u187765/./yolov5/train.py\", line 31, in <module>\n",
      "    import torch.distributed as dist\n",
      "ModuleNotFoundError: No module named 'torch.distributed'\n"
     ]
    }
   ],
   "source": [
    "!python ./yolov5/train.py --img 640 --batch 16 --epochs 3 --data ./yolov5/train_val.yaml --weights yolov5s.pt"
   ]
  },
  {
   "cell_type": "code",
   "execution_count": null,
   "id": "965d84f8-6887-4480-bcec-03c7fb899447",
   "metadata": {},
   "outputs": [],
   "source": []
  }
 ],
 "metadata": {
  "kernelspec": {
   "display_name": "PyTorch (AI kit)",
   "language": "python",
   "name": "c009-intel_distribution_of_python_3_oneapi-beta05-pytorch"
  },
  "language_info": {
   "codemirror_mode": {
    "name": "ipython",
    "version": 3
   },
   "file_extension": ".py",
   "mimetype": "text/x-python",
   "name": "python",
   "nbconvert_exporter": "python",
   "pygments_lexer": "ipython3",
   "version": "3.9.16"
  }
 },
 "nbformat": 4,
 "nbformat_minor": 5
}
